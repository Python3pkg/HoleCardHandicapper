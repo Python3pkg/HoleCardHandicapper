{
 "cells": [
  {
   "cell_type": "markdown",
   "metadata": {},
   "source": [
    "# Import learning data"
   ]
  },
  {
   "cell_type": "code",
   "execution_count": 1,
   "metadata": {
    "collapsed": false
   },
   "outputs": [],
   "source": [
    "import pandas as pd\n",
    "\n",
    "data_path = \"../learning_data/data/win_rate/river/100-data-100-simulation-2-players-win-rate-data.csv\"\n",
    "df = pd.read_csv(data_path)"
   ]
  },
  {
   "cell_type": "markdown",
   "metadata": {},
   "source": [
    "# About learning data"
   ]
  },
  {
   "cell_type": "code",
   "execution_count": 2,
   "metadata": {
    "collapsed": false
   },
   "outputs": [
    {
     "data": {
      "text/plain": [
       "(100, 15)"
      ]
     },
     "execution_count": 2,
     "metadata": {},
     "output_type": "execute_result"
    }
   ],
   "source": [
    "df.shape"
   ]
  },
  {
   "cell_type": "code",
   "execution_count": 3,
   "metadata": {
    "collapsed": false
   },
   "outputs": [
    {
     "data": {
      "text/html": [
       "<div>\n",
       "<table border=\"1\" class=\"dataframe\">\n",
       "  <thead>\n",
       "    <tr style=\"text-align: right;\">\n",
       "      <th></th>\n",
       "      <th>hole1</th>\n",
       "      <th>hole2</th>\n",
       "      <th>community1</th>\n",
       "      <th>community2</th>\n",
       "      <th>community3</th>\n",
       "      <th>community4</th>\n",
       "      <th>community5</th>\n",
       "      <th>win_rate</th>\n",
       "      <th>hole1_id</th>\n",
       "      <th>hole2_id</th>\n",
       "      <th>community1_id</th>\n",
       "      <th>community2_id</th>\n",
       "      <th>community3_id</th>\n",
       "      <th>community4_id</th>\n",
       "      <th>community5_id</th>\n",
       "    </tr>\n",
       "  </thead>\n",
       "  <tbody>\n",
       "    <tr>\n",
       "      <th>0</th>\n",
       "      <td>D9</td>\n",
       "      <td>S9</td>\n",
       "      <td>H4</td>\n",
       "      <td>C8</td>\n",
       "      <td>H3</td>\n",
       "      <td>CK</td>\n",
       "      <td>H7</td>\n",
       "      <td>0.68</td>\n",
       "      <td>22</td>\n",
       "      <td>48</td>\n",
       "      <td>30</td>\n",
       "      <td>8</td>\n",
       "      <td>29</td>\n",
       "      <td>13</td>\n",
       "      <td>33</td>\n",
       "    </tr>\n",
       "    <tr>\n",
       "      <th>1</th>\n",
       "      <td>C8</td>\n",
       "      <td>DQ</td>\n",
       "      <td>S5</td>\n",
       "      <td>S4</td>\n",
       "      <td>D4</td>\n",
       "      <td>HK</td>\n",
       "      <td>C3</td>\n",
       "      <td>0.40</td>\n",
       "      <td>8</td>\n",
       "      <td>25</td>\n",
       "      <td>44</td>\n",
       "      <td>43</td>\n",
       "      <td>17</td>\n",
       "      <td>39</td>\n",
       "      <td>3</td>\n",
       "    </tr>\n",
       "    <tr>\n",
       "      <th>2</th>\n",
       "      <td>HJ</td>\n",
       "      <td>SQ</td>\n",
       "      <td>S9</td>\n",
       "      <td>H6</td>\n",
       "      <td>S6</td>\n",
       "      <td>CA</td>\n",
       "      <td>S3</td>\n",
       "      <td>0.44</td>\n",
       "      <td>37</td>\n",
       "      <td>51</td>\n",
       "      <td>48</td>\n",
       "      <td>32</td>\n",
       "      <td>45</td>\n",
       "      <td>1</td>\n",
       "      <td>42</td>\n",
       "    </tr>\n",
       "    <tr>\n",
       "      <th>3</th>\n",
       "      <td>S5</td>\n",
       "      <td>SK</td>\n",
       "      <td>CA</td>\n",
       "      <td>CT</td>\n",
       "      <td>C3</td>\n",
       "      <td>DA</td>\n",
       "      <td>D4</td>\n",
       "      <td>0.46</td>\n",
       "      <td>44</td>\n",
       "      <td>52</td>\n",
       "      <td>1</td>\n",
       "      <td>10</td>\n",
       "      <td>3</td>\n",
       "      <td>14</td>\n",
       "      <td>17</td>\n",
       "    </tr>\n",
       "    <tr>\n",
       "      <th>4</th>\n",
       "      <td>D5</td>\n",
       "      <td>D3</td>\n",
       "      <td>HT</td>\n",
       "      <td>CJ</td>\n",
       "      <td>CK</td>\n",
       "      <td>H2</td>\n",
       "      <td>S8</td>\n",
       "      <td>0.01</td>\n",
       "      <td>18</td>\n",
       "      <td>16</td>\n",
       "      <td>36</td>\n",
       "      <td>11</td>\n",
       "      <td>13</td>\n",
       "      <td>28</td>\n",
       "      <td>47</td>\n",
       "    </tr>\n",
       "  </tbody>\n",
       "</table>\n",
       "</div>"
      ],
      "text/plain": [
       "  hole1 hole2 community1 community2 community3 community4 community5  \\\n",
       "0    D9    S9         H4         C8         H3         CK         H7   \n",
       "1    C8    DQ         S5         S4         D4         HK         C3   \n",
       "2    HJ    SQ         S9         H6         S6         CA         S3   \n",
       "3    S5    SK         CA         CT         C3         DA         D4   \n",
       "4    D5    D3         HT         CJ         CK         H2         S8   \n",
       "\n",
       "   win_rate  hole1_id  hole2_id  community1_id  community2_id  community3_id  \\\n",
       "0      0.68        22        48             30              8             29   \n",
       "1      0.40         8        25             44             43             17   \n",
       "2      0.44        37        51             48             32             45   \n",
       "3      0.46        44        52              1             10              3   \n",
       "4      0.01        18        16             36             11             13   \n",
       "\n",
       "   community4_id  community5_id  \n",
       "0             13             33  \n",
       "1             39              3  \n",
       "2              1             42  \n",
       "3             14             17  \n",
       "4             28             47  "
      ]
     },
     "execution_count": 3,
     "metadata": {},
     "output_type": "execute_result"
    }
   ],
   "source": [
    "df.head()"
   ]
  },
  {
   "cell_type": "code",
   "execution_count": 4,
   "metadata": {
    "collapsed": false
   },
   "outputs": [
    {
     "data": {
      "text/html": [
       "<div>\n",
       "<table border=\"1\" class=\"dataframe\">\n",
       "  <thead>\n",
       "    <tr style=\"text-align: right;\">\n",
       "      <th></th>\n",
       "      <th>win_rate</th>\n",
       "      <th>hole1_id</th>\n",
       "      <th>hole2_id</th>\n",
       "      <th>community1_id</th>\n",
       "      <th>community2_id</th>\n",
       "      <th>community3_id</th>\n",
       "      <th>community4_id</th>\n",
       "      <th>community5_id</th>\n",
       "    </tr>\n",
       "  </thead>\n",
       "  <tbody>\n",
       "    <tr>\n",
       "      <th>count</th>\n",
       "      <td>100.000000</td>\n",
       "      <td>100.000000</td>\n",
       "      <td>100.000000</td>\n",
       "      <td>100.000000</td>\n",
       "      <td>100.000000</td>\n",
       "      <td>100.000000</td>\n",
       "      <td>100.000000</td>\n",
       "      <td>100.000000</td>\n",
       "    </tr>\n",
       "    <tr>\n",
       "      <th>mean</th>\n",
       "      <td>0.573900</td>\n",
       "      <td>24.670000</td>\n",
       "      <td>24.760000</td>\n",
       "      <td>28.390000</td>\n",
       "      <td>23.850000</td>\n",
       "      <td>27.230000</td>\n",
       "      <td>28.330000</td>\n",
       "      <td>28.420000</td>\n",
       "    </tr>\n",
       "    <tr>\n",
       "      <th>std</th>\n",
       "      <td>0.250058</td>\n",
       "      <td>15.159792</td>\n",
       "      <td>15.413571</td>\n",
       "      <td>15.966439</td>\n",
       "      <td>15.075818</td>\n",
       "      <td>15.737015</td>\n",
       "      <td>14.587289</td>\n",
       "      <td>13.665691</td>\n",
       "    </tr>\n",
       "    <tr>\n",
       "      <th>min</th>\n",
       "      <td>0.010000</td>\n",
       "      <td>1.000000</td>\n",
       "      <td>1.000000</td>\n",
       "      <td>1.000000</td>\n",
       "      <td>1.000000</td>\n",
       "      <td>1.000000</td>\n",
       "      <td>1.000000</td>\n",
       "      <td>1.000000</td>\n",
       "    </tr>\n",
       "    <tr>\n",
       "      <th>25%</th>\n",
       "      <td>0.447500</td>\n",
       "      <td>10.000000</td>\n",
       "      <td>12.000000</td>\n",
       "      <td>16.000000</td>\n",
       "      <td>10.000000</td>\n",
       "      <td>13.000000</td>\n",
       "      <td>15.000000</td>\n",
       "      <td>20.000000</td>\n",
       "    </tr>\n",
       "    <tr>\n",
       "      <th>50%</th>\n",
       "      <td>0.545000</td>\n",
       "      <td>24.000000</td>\n",
       "      <td>22.000000</td>\n",
       "      <td>32.000000</td>\n",
       "      <td>22.000000</td>\n",
       "      <td>28.500000</td>\n",
       "      <td>30.000000</td>\n",
       "      <td>29.000000</td>\n",
       "    </tr>\n",
       "    <tr>\n",
       "      <th>75%</th>\n",
       "      <td>0.750000</td>\n",
       "      <td>37.000000</td>\n",
       "      <td>39.000000</td>\n",
       "      <td>42.250000</td>\n",
       "      <td>36.000000</td>\n",
       "      <td>41.000000</td>\n",
       "      <td>41.000000</td>\n",
       "      <td>37.250000</td>\n",
       "    </tr>\n",
       "    <tr>\n",
       "      <th>max</th>\n",
       "      <td>1.000000</td>\n",
       "      <td>52.000000</td>\n",
       "      <td>52.000000</td>\n",
       "      <td>52.000000</td>\n",
       "      <td>52.000000</td>\n",
       "      <td>52.000000</td>\n",
       "      <td>52.000000</td>\n",
       "      <td>52.000000</td>\n",
       "    </tr>\n",
       "  </tbody>\n",
       "</table>\n",
       "</div>"
      ],
      "text/plain": [
       "         win_rate    hole1_id    hole2_id  community1_id  community2_id  \\\n",
       "count  100.000000  100.000000  100.000000     100.000000     100.000000   \n",
       "mean     0.573900   24.670000   24.760000      28.390000      23.850000   \n",
       "std      0.250058   15.159792   15.413571      15.966439      15.075818   \n",
       "min      0.010000    1.000000    1.000000       1.000000       1.000000   \n",
       "25%      0.447500   10.000000   12.000000      16.000000      10.000000   \n",
       "50%      0.545000   24.000000   22.000000      32.000000      22.000000   \n",
       "75%      0.750000   37.000000   39.000000      42.250000      36.000000   \n",
       "max      1.000000   52.000000   52.000000      52.000000      52.000000   \n",
       "\n",
       "       community3_id  community4_id  community5_id  \n",
       "count     100.000000     100.000000     100.000000  \n",
       "mean       27.230000      28.330000      28.420000  \n",
       "std        15.737015      14.587289      13.665691  \n",
       "min         1.000000       1.000000       1.000000  \n",
       "25%        13.000000      15.000000      20.000000  \n",
       "50%        28.500000      30.000000      29.000000  \n",
       "75%        41.000000      41.000000      37.250000  \n",
       "max        52.000000      52.000000      52.000000  "
      ]
     },
     "execution_count": 4,
     "metadata": {},
     "output_type": "execute_result"
    }
   ],
   "source": [
    "df.describe()"
   ]
  },
  {
   "cell_type": "markdown",
   "metadata": {},
   "source": [
    "# Data Processing"
   ]
  },
  {
   "cell_type": "markdown",
   "metadata": {},
   "source": [
    "## card id -> 1-hot vector"
   ]
  },
  {
   "cell_type": "code",
   "execution_count": 5,
   "metadata": {
    "collapsed": false
   },
   "outputs": [],
   "source": [
    "import numpy as np\n",
    "\n",
    "gen_one_hot = lambda target_ids: [1 if i in target_ids else 0 for i in range(1,53)]\n",
    "fetch_hole = lambda row: [row[key] for key in ['hole1_id', 'hole2_id']]\n",
    "fetch_community = lambda row: [row[key] for key in ['community1_id', 'community2_id', 'community3_id', 'community4_id', 'community5_id']]\n",
    "hole_one_hot = df.apply(lambda row: gen_one_hot(fetch_hole(row)), axis=1)\n",
    "community_one_hot = df.apply(lambda row: gen_one_hot(fetch_community(row)), axis=1)\n",
    "df[\"onehot\"] = hole_one_hot + community_one_hot"
   ]
  },
  {
   "cell_type": "markdown",
   "metadata": {},
   "source": [
    "## Separate data for training and validation"
   ]
  },
  {
   "cell_type": "code",
   "execution_count": 8,
   "metadata": {
    "collapsed": false
   },
   "outputs": [],
   "source": [
    "validation_rate = 0.1\n",
    "boundary_idx = int(df.shape[0]*(1-validation_rate))\n",
    "train_df = df[:boundary_idx]\n",
    "validation_df = df[boundary_idx:]"
   ]
  },
  {
   "cell_type": "markdown",
   "metadata": {},
   "source": [
    "## Format data (pandas.df -> numpy.ndarray)"
   ]
  },
  {
   "cell_type": "code",
   "execution_count": 9,
   "metadata": {
    "collapsed": false
   },
   "outputs": [
    {
     "name": "stdout",
     "output_type": "stream",
     "text": [
      "shape of training x: (90, 104), y: (90,)\n",
      "shape of validation x: (10, 104), y: (10,)\n"
     ]
    }
   ],
   "source": [
    "to_ndarray = lambda X: np.array([np.array(x) for x in X])\n",
    "train_x, train_y = [to_ndarray(array) for array in [train_df[\"onehot\"].values, train_df[\"win_rate\"].values]]\n",
    "val_x, val_y = [to_ndarray(array) for array in [validation_df[\"onehot\"].values, validation_df[\"win_rate\"].values]]\n",
    "print \"shape of training x: %s, y: %s\" % (train_x.shape, train_y.shape)\n",
    "print \"shape of validation x: %s, y: %s\" % (val_x.shape, val_y.shape)"
   ]
  },
  {
   "cell_type": "markdown",
   "metadata": {},
   "source": [
    "# Create model"
   ]
  },
  {
   "cell_type": "code",
   "execution_count": 10,
   "metadata": {
    "collapsed": false
   },
   "outputs": [
    {
     "name": "stderr",
     "output_type": "stream",
     "text": [
      "Using Theano backend.\n"
     ]
    }
   ],
   "source": [
    "from keras.models import Sequential\n",
    "from keras.layers.core import Dense, Activation, Dropout\n",
    "\n",
    "model = Sequential()\n",
    "model.add(Dense(60, input_dim=104))\n",
    "model.add(Activation(\"relu\"))\n",
    "model.add(Dropout(0.5))\n",
    "model.add(Dense(1))\n",
    "model.compile(loss=\"mse\",  optimizer=\"rmsprop\")"
   ]
  },
  {
   "cell_type": "markdown",
   "metadata": {},
   "source": [
    "# Train model"
   ]
  },
  {
   "cell_type": "code",
   "execution_count": 11,
   "metadata": {
    "collapsed": false
   },
   "outputs": [],
   "source": [
    "history = model.fit(train_x, train_y, batch_size=128, nb_epoch=100, validation_split=0.1, verbose=0)"
   ]
  },
  {
   "cell_type": "markdown",
   "metadata": {},
   "source": [
    "# Check model performance"
   ]
  },
  {
   "cell_type": "markdown",
   "metadata": {},
   "source": [
    "## Visualize loss transition"
   ]
  },
  {
   "cell_type": "code",
   "execution_count": 12,
   "metadata": {
    "collapsed": false
   },
   "outputs": [
    {
     "data": {
      "image/png": "[encoded data removed]",
      "text/plain": [
       "<matplotlib.figure.Figure at 0x10f285410>"
      ]
     },
     "metadata": {},
     "output_type": "display_data"
    }
   ],
   "source": [
    "%matplotlib inline\n",
    "import seaborn\n",
    "import matplotlib.pyplot as plt\n",
    "\n",
    "plt.figure(figsize=(10,10))\n",
    "for idx, key in enumerate(history.history, start=1):\n",
    "    plt.subplot(2, 2, idx)\n",
    "    plt.plot(range(len(history.history[key])), history.history[key])\n",
    "    plt.title(key)\n",
    "plt.show()"
   ]
  },
  {
   "cell_type": "markdown",
   "metadata": {},
   "source": [
    "## Test model performance by MSE "
   ]
  },
  {
   "cell_type": "code",
   "execution_count": 13,
   "metadata": {
    "collapsed": false
   },
   "outputs": [],
   "source": [
    "from sklearn.metrics import mean_squared_error\n",
    "\n",
    "def print_model_performance(model, train_x, train_y, val_x, val_y):\n",
    "    print 'MSE on training data = {score}'.format(score=mean_squared_error(model.predict(train_x), train_y))\n",
    "    print 'MSE on validation data = {score}'.format(score=mean_squared_error(model.predict(val_x), val_y))"
   ]
  },
  {
   "cell_type": "code",
   "execution_count": 14,
   "metadata": {
    "collapsed": false
   },
   "outputs": [
    {
     "name": "stdout",
     "output_type": "stream",
     "text": [
      "MSE on training data = 0.0161681796177\n",
      "MSE on validation data = 0.04834510794\n"
     ]
    }
   ],
   "source": [
    "print_model_performance(model, train_x, train_y, val_x, val_y)"
   ]
  },
  {
   "cell_type": "markdown",
   "metadata": {},
   "source": [
    "## See model prediction on sample data"
   ]
  },
  {
   "cell_type": "code",
   "execution_count": 20,
   "metadata": {
    "collapsed": false
   },
   "outputs": [
    {
     "name": "stdout",
     "output_type": "stream",
     "text": [
      "HOLE = [HJ, S7], COMMUNITY = [HQ, S6, HA, HT, HK] => win_rate = { prediction=0.399459, expected=1.000000 }\n",
      "HOLE = [SA, H4], COMMUNITY = [S2, S4, D4, HA, H5] => win_rate = { prediction=0.625281, expected=0.993000 }\n",
      "HOLE = [D8, CJ], COMMUNITY = [S3, H6, CT, C5, D4] => win_rate = { prediction=0.419343, expected=0.018000 }\n",
      "HOLE = [D2, SK], COMMUNITY = [D9, C5, D5, HA, H4] => win_rate = { prediction=0.654532, expected=0.501000 }\n"
     ]
    }
   ],
   "source": [
    "from pypokerengine.engine.card import Card\n",
    "C, D, H, S = Card.CLUB, Card.DIAMOND, Card.HEART, Card.SPADE\n",
    "\n",
    "test_case = [\n",
    "    [(11, H), (7, S), (12, H), (6, S), (1, H), (10, H), (13, H), 1.0],\n",
    "    [(1, S), (4, H), (2, S), (4, S), (4, D), (1, H), (5, H), 0.993],\n",
    "    [(8, D), (11, C), (3, S), (6, H), (10, C), (5, C), (4, D), 0.018],\n",
    "    [(2, D), (13, S), (9, D), (5, C), (5, D), (1, H), (4, H), 0.501]\n",
    "]\n",
    "\n",
    "gen_one_hot = lambda target_ids: [1 if i in target_ids else 0 for i in range(1,53)]\n",
    "to_id = lambda card: card.to_id()\n",
    "\n",
    "for card1, card2, card3, card4, card5, card6, card7, expected in test_case:\n",
    "    cards = [Card(rank=rank, suit=suit) for rank, suit in [card1, card2, card3, card4, card5, card6, card7]]\n",
    "    hole = cards[:2]\n",
    "    community = cards[2:]\n",
    "    hole_onehot = gen_one_hot(map(to_id, hole))\n",
    "    community_onehot = gen_one_hot(map(to_id, community))\n",
    "    x = hole_onehot + community_onehot\n",
    "    X = np.array([x])\n",
    "    y = model.predict(X)[0][0]\n",
    "    print \"HOLE = [%s, %s], COMMUNITY = [%s, %s, %s, %s, %s] => win_rate = { prediction=%f, expected=%f }\" % tuple(map(str, hole) + map(str, community) + [y , expected])"
   ]
  },
  {
   "cell_type": "code",
   "execution_count": null,
   "metadata": {
    "collapsed": true
   },
   "outputs": [],
   "source": []
  }
 ],
 "metadata": {
  "kernelspec": {
   "display_name": "Python 2",
   "language": "python",
   "name": "python2"
  },
  "language_info": {
   "codemirror_mode": {
    "name": "ipython",
    "version": 2
   },
   "file_extension": ".py",
   "mimetype": "text/x-python",
   "name": "python",
   "nbconvert_exporter": "python",
   "pygments_lexer": "ipython2",
   "version": "2.7.11"
  }
 },
 "nbformat": 4,
 "nbformat_minor": 0
}
