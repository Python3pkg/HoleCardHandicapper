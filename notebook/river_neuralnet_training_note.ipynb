{
 "cells": [
  {
   "cell_type": "markdown",
   "metadata": {},
   "source": [
    "# Import learning data"
   ]
  },
  {
   "cell_type": "code",
   "execution_count": 21,
   "metadata": {
    "collapsed": false
   },
   "outputs": [],
   "source": [
    "import pandas as pd\n",
    "\n",
    "training_data_path = \"../learning_data/data/win_rate/river/50000-data-1000-simulation-2-players-win-rate-data.csv\"\n",
    "test_data_path = \"../learning_data/data/win_rate/river/10000-data-1000-simulation-2-players-win-rate-data.csv\"\n",
    "train_df = pd.read_csv(training_data_path)\n",
    "test_df = pd.read_csv(test_data_path)"
   ]
  },
  {
   "cell_type": "markdown",
   "metadata": {},
   "source": [
    "# About learning data"
   ]
  },
  {
   "cell_type": "code",
   "execution_count": 22,
   "metadata": {
    "collapsed": false
   },
   "outputs": [
    {
     "name": "stdout",
     "output_type": "stream",
     "text": [
      "(50000, 15) (10000, 15)\n"
     ]
    }
   ],
   "source": [
    "print train_df.shape, test_df.shape"
   ]
  },
  {
   "cell_type": "code",
   "execution_count": 23,
   "metadata": {
    "collapsed": false
   },
   "outputs": [
    {
     "data": {
      "text/html": [
       "<div>\n",
       "<table border=\"1\" class=\"dataframe\">\n",
       "  <thead>\n",
       "    <tr style=\"text-align: right;\">\n",
       "      <th></th>\n",
       "      <th>hole1</th>\n",
       "      <th>hole2</th>\n",
       "      <th>community1</th>\n",
       "      <th>community2</th>\n",
       "      <th>community3</th>\n",
       "      <th>community4</th>\n",
       "      <th>community5</th>\n",
       "      <th>win_rate</th>\n",
       "      <th>hole1_id</th>\n",
       "      <th>hole2_id</th>\n",
       "      <th>community1_id</th>\n",
       "      <th>community2_id</th>\n",
       "      <th>community3_id</th>\n",
       "      <th>community4_id</th>\n",
       "      <th>community5_id</th>\n",
       "    </tr>\n",
       "  </thead>\n",
       "  <tbody>\n",
       "    <tr>\n",
       "      <th>0</th>\n",
       "      <td>S2</td>\n",
       "      <td>C8</td>\n",
       "      <td>C5</td>\n",
       "      <td>C9</td>\n",
       "      <td>DA</td>\n",
       "      <td>SA</td>\n",
       "      <td>S5</td>\n",
       "      <td>0.812</td>\n",
       "      <td>41</td>\n",
       "      <td>8</td>\n",
       "      <td>5</td>\n",
       "      <td>9</td>\n",
       "      <td>14</td>\n",
       "      <td>40</td>\n",
       "      <td>44</td>\n",
       "    </tr>\n",
       "    <tr>\n",
       "      <th>1</th>\n",
       "      <td>CA</td>\n",
       "      <td>D2</td>\n",
       "      <td>DJ</td>\n",
       "      <td>D6</td>\n",
       "      <td>H8</td>\n",
       "      <td>SK</td>\n",
       "      <td>CJ</td>\n",
       "      <td>0.516</td>\n",
       "      <td>1</td>\n",
       "      <td>15</td>\n",
       "      <td>24</td>\n",
       "      <td>19</td>\n",
       "      <td>34</td>\n",
       "      <td>52</td>\n",
       "      <td>11</td>\n",
       "    </tr>\n",
       "    <tr>\n",
       "      <th>2</th>\n",
       "      <td>S6</td>\n",
       "      <td>S8</td>\n",
       "      <td>SA</td>\n",
       "      <td>C9</td>\n",
       "      <td>HA</td>\n",
       "      <td>H6</td>\n",
       "      <td>C8</td>\n",
       "      <td>0.555</td>\n",
       "      <td>45</td>\n",
       "      <td>47</td>\n",
       "      <td>40</td>\n",
       "      <td>9</td>\n",
       "      <td>27</td>\n",
       "      <td>32</td>\n",
       "      <td>8</td>\n",
       "    </tr>\n",
       "    <tr>\n",
       "      <th>3</th>\n",
       "      <td>CK</td>\n",
       "      <td>SQ</td>\n",
       "      <td>C6</td>\n",
       "      <td>ST</td>\n",
       "      <td>SK</td>\n",
       "      <td>HA</td>\n",
       "      <td>C5</td>\n",
       "      <td>0.794</td>\n",
       "      <td>13</td>\n",
       "      <td>51</td>\n",
       "      <td>6</td>\n",
       "      <td>49</td>\n",
       "      <td>52</td>\n",
       "      <td>27</td>\n",
       "      <td>5</td>\n",
       "    </tr>\n",
       "    <tr>\n",
       "      <th>4</th>\n",
       "      <td>SQ</td>\n",
       "      <td>H5</td>\n",
       "      <td>ST</td>\n",
       "      <td>S9</td>\n",
       "      <td>SA</td>\n",
       "      <td>D9</td>\n",
       "      <td>H9</td>\n",
       "      <td>0.600</td>\n",
       "      <td>51</td>\n",
       "      <td>31</td>\n",
       "      <td>49</td>\n",
       "      <td>48</td>\n",
       "      <td>40</td>\n",
       "      <td>22</td>\n",
       "      <td>35</td>\n",
       "    </tr>\n",
       "  </tbody>\n",
       "</table>\n",
       "</div>"
      ],
      "text/plain": [
       "  hole1 hole2 community1 community2 community3 community4 community5  \\\n",
       "0    S2    C8         C5         C9         DA         SA         S5   \n",
       "1    CA    D2         DJ         D6         H8         SK         CJ   \n",
       "2    S6    S8         SA         C9         HA         H6         C8   \n",
       "3    CK    SQ         C6         ST         SK         HA         C5   \n",
       "4    SQ    H5         ST         S9         SA         D9         H9   \n",
       "\n",
       "   win_rate  hole1_id  hole2_id  community1_id  community2_id  community3_id  \\\n",
       "0     0.812        41         8              5              9             14   \n",
       "1     0.516         1        15             24             19             34   \n",
       "2     0.555        45        47             40              9             27   \n",
       "3     0.794        13        51              6             49             52   \n",
       "4     0.600        51        31             49             48             40   \n",
       "\n",
       "   community4_id  community5_id  \n",
       "0             40             44  \n",
       "1             52             11  \n",
       "2             32              8  \n",
       "3             27              5  \n",
       "4             22             35  "
      ]
     },
     "execution_count": 23,
     "metadata": {},
     "output_type": "execute_result"
    }
   ],
   "source": [
    "train_df.head()"
   ]
  },
  {
   "cell_type": "code",
   "execution_count": 24,
   "metadata": {
    "collapsed": false
   },
   "outputs": [
    {
     "data": {
      "text/html": [
       "<div>\n",
       "<table border=\"1\" class=\"dataframe\">\n",
       "  <thead>\n",
       "    <tr style=\"text-align: right;\">\n",
       "      <th></th>\n",
       "      <th>win_rate</th>\n",
       "      <th>hole1_id</th>\n",
       "      <th>hole2_id</th>\n",
       "      <th>community1_id</th>\n",
       "      <th>community2_id</th>\n",
       "      <th>community3_id</th>\n",
       "      <th>community4_id</th>\n",
       "      <th>community5_id</th>\n",
       "    </tr>\n",
       "  </thead>\n",
       "  <tbody>\n",
       "    <tr>\n",
       "      <th>count</th>\n",
       "      <td>50000.000000</td>\n",
       "      <td>50000.000000</td>\n",
       "      <td>50000.000000</td>\n",
       "      <td>50000.00000</td>\n",
       "      <td>50000.00000</td>\n",
       "      <td>50000.000000</td>\n",
       "      <td>50000.000000</td>\n",
       "      <td>50000.00000</td>\n",
       "    </tr>\n",
       "    <tr>\n",
       "      <th>mean</th>\n",
       "      <td>0.586767</td>\n",
       "      <td>26.365540</td>\n",
       "      <td>26.421840</td>\n",
       "      <td>26.42548</td>\n",
       "      <td>26.54252</td>\n",
       "      <td>26.529120</td>\n",
       "      <td>26.579660</td>\n",
       "      <td>26.41158</td>\n",
       "    </tr>\n",
       "    <tr>\n",
       "      <th>std</th>\n",
       "      <td>0.263906</td>\n",
       "      <td>14.997504</td>\n",
       "      <td>14.957672</td>\n",
       "      <td>15.00689</td>\n",
       "      <td>14.99553</td>\n",
       "      <td>15.036352</td>\n",
       "      <td>14.962419</td>\n",
       "      <td>14.98069</td>\n",
       "    </tr>\n",
       "    <tr>\n",
       "      <th>min</th>\n",
       "      <td>0.000000</td>\n",
       "      <td>1.000000</td>\n",
       "      <td>1.000000</td>\n",
       "      <td>1.00000</td>\n",
       "      <td>1.00000</td>\n",
       "      <td>1.000000</td>\n",
       "      <td>1.000000</td>\n",
       "      <td>1.00000</td>\n",
       "    </tr>\n",
       "    <tr>\n",
       "      <th>25%</th>\n",
       "      <td>0.457000</td>\n",
       "      <td>13.000000</td>\n",
       "      <td>13.000000</td>\n",
       "      <td>13.00000</td>\n",
       "      <td>14.00000</td>\n",
       "      <td>13.000000</td>\n",
       "      <td>14.000000</td>\n",
       "      <td>13.00000</td>\n",
       "    </tr>\n",
       "    <tr>\n",
       "      <th>50%</th>\n",
       "      <td>0.568000</td>\n",
       "      <td>26.000000</td>\n",
       "      <td>26.000000</td>\n",
       "      <td>26.00000</td>\n",
       "      <td>26.00000</td>\n",
       "      <td>27.000000</td>\n",
       "      <td>27.000000</td>\n",
       "      <td>26.00000</td>\n",
       "    </tr>\n",
       "    <tr>\n",
       "      <th>75%</th>\n",
       "      <td>0.814000</td>\n",
       "      <td>39.000000</td>\n",
       "      <td>39.000000</td>\n",
       "      <td>40.00000</td>\n",
       "      <td>40.00000</td>\n",
       "      <td>40.000000</td>\n",
       "      <td>40.000000</td>\n",
       "      <td>39.00000</td>\n",
       "    </tr>\n",
       "    <tr>\n",
       "      <th>max</th>\n",
       "      <td>1.000000</td>\n",
       "      <td>52.000000</td>\n",
       "      <td>52.000000</td>\n",
       "      <td>52.00000</td>\n",
       "      <td>52.00000</td>\n",
       "      <td>52.000000</td>\n",
       "      <td>52.000000</td>\n",
       "      <td>52.00000</td>\n",
       "    </tr>\n",
       "  </tbody>\n",
       "</table>\n",
       "</div>"
      ],
      "text/plain": [
       "           win_rate      hole1_id      hole2_id  community1_id  community2_id  \\\n",
       "count  50000.000000  50000.000000  50000.000000    50000.00000    50000.00000   \n",
       "mean       0.586767     26.365540     26.421840       26.42548       26.54252   \n",
       "std        0.263906     14.997504     14.957672       15.00689       14.99553   \n",
       "min        0.000000      1.000000      1.000000        1.00000        1.00000   \n",
       "25%        0.457000     13.000000     13.000000       13.00000       14.00000   \n",
       "50%        0.568000     26.000000     26.000000       26.00000       26.00000   \n",
       "75%        0.814000     39.000000     39.000000       40.00000       40.00000   \n",
       "max        1.000000     52.000000     52.000000       52.00000       52.00000   \n",
       "\n",
       "       community3_id  community4_id  community5_id  \n",
       "count   50000.000000   50000.000000    50000.00000  \n",
       "mean       26.529120      26.579660       26.41158  \n",
       "std        15.036352      14.962419       14.98069  \n",
       "min         1.000000       1.000000        1.00000  \n",
       "25%        13.000000      14.000000       13.00000  \n",
       "50%        27.000000      27.000000       26.00000  \n",
       "75%        40.000000      40.000000       39.00000  \n",
       "max        52.000000      52.000000       52.00000  "
      ]
     },
     "execution_count": 24,
     "metadata": {},
     "output_type": "execute_result"
    }
   ],
   "source": [
    "train_df.describe()"
   ]
  },
  {
   "cell_type": "code",
   "execution_count": 25,
   "metadata": {
    "collapsed": false
   },
   "outputs": [
    {
     "data": {
      "text/html": [
       "<div>\n",
       "<table border=\"1\" class=\"dataframe\">\n",
       "  <thead>\n",
       "    <tr style=\"text-align: right;\">\n",
       "      <th></th>\n",
       "      <th>win_rate</th>\n",
       "      <th>hole1_id</th>\n",
       "      <th>hole2_id</th>\n",
       "      <th>community1_id</th>\n",
       "      <th>community2_id</th>\n",
       "      <th>community3_id</th>\n",
       "      <th>community4_id</th>\n",
       "      <th>community5_id</th>\n",
       "    </tr>\n",
       "  </thead>\n",
       "  <tbody>\n",
       "    <tr>\n",
       "      <th>count</th>\n",
       "      <td>10000.000000</td>\n",
       "      <td>10000.000000</td>\n",
       "      <td>10000.000000</td>\n",
       "      <td>10000.000000</td>\n",
       "      <td>10000.000000</td>\n",
       "      <td>10000.000000</td>\n",
       "      <td>10000.000000</td>\n",
       "      <td>10000.000000</td>\n",
       "    </tr>\n",
       "    <tr>\n",
       "      <th>mean</th>\n",
       "      <td>0.584548</td>\n",
       "      <td>26.785300</td>\n",
       "      <td>26.192400</td>\n",
       "      <td>26.672400</td>\n",
       "      <td>26.400100</td>\n",
       "      <td>26.506900</td>\n",
       "      <td>26.501400</td>\n",
       "      <td>26.665500</td>\n",
       "    </tr>\n",
       "    <tr>\n",
       "      <th>std</th>\n",
       "      <td>0.264149</td>\n",
       "      <td>14.959572</td>\n",
       "      <td>15.023706</td>\n",
       "      <td>14.896425</td>\n",
       "      <td>15.025145</td>\n",
       "      <td>14.938101</td>\n",
       "      <td>15.103715</td>\n",
       "      <td>14.998703</td>\n",
       "    </tr>\n",
       "    <tr>\n",
       "      <th>min</th>\n",
       "      <td>0.000000</td>\n",
       "      <td>1.000000</td>\n",
       "      <td>1.000000</td>\n",
       "      <td>1.000000</td>\n",
       "      <td>1.000000</td>\n",
       "      <td>1.000000</td>\n",
       "      <td>1.000000</td>\n",
       "      <td>1.000000</td>\n",
       "    </tr>\n",
       "    <tr>\n",
       "      <th>25%</th>\n",
       "      <td>0.456000</td>\n",
       "      <td>14.000000</td>\n",
       "      <td>13.000000</td>\n",
       "      <td>14.000000</td>\n",
       "      <td>13.000000</td>\n",
       "      <td>14.000000</td>\n",
       "      <td>13.000000</td>\n",
       "      <td>14.000000</td>\n",
       "    </tr>\n",
       "    <tr>\n",
       "      <th>50%</th>\n",
       "      <td>0.565000</td>\n",
       "      <td>27.000000</td>\n",
       "      <td>26.000000</td>\n",
       "      <td>27.000000</td>\n",
       "      <td>26.000000</td>\n",
       "      <td>26.000000</td>\n",
       "      <td>27.000000</td>\n",
       "      <td>27.000000</td>\n",
       "    </tr>\n",
       "    <tr>\n",
       "      <th>75%</th>\n",
       "      <td>0.811000</td>\n",
       "      <td>40.000000</td>\n",
       "      <td>39.000000</td>\n",
       "      <td>40.000000</td>\n",
       "      <td>39.000000</td>\n",
       "      <td>39.000000</td>\n",
       "      <td>40.000000</td>\n",
       "      <td>40.000000</td>\n",
       "    </tr>\n",
       "    <tr>\n",
       "      <th>max</th>\n",
       "      <td>1.000000</td>\n",
       "      <td>52.000000</td>\n",
       "      <td>52.000000</td>\n",
       "      <td>52.000000</td>\n",
       "      <td>52.000000</td>\n",
       "      <td>52.000000</td>\n",
       "      <td>52.000000</td>\n",
       "      <td>52.000000</td>\n",
       "    </tr>\n",
       "  </tbody>\n",
       "</table>\n",
       "</div>"
      ],
      "text/plain": [
       "           win_rate      hole1_id      hole2_id  community1_id  community2_id  \\\n",
       "count  10000.000000  10000.000000  10000.000000   10000.000000   10000.000000   \n",
       "mean       0.584548     26.785300     26.192400      26.672400      26.400100   \n",
       "std        0.264149     14.959572     15.023706      14.896425      15.025145   \n",
       "min        0.000000      1.000000      1.000000       1.000000       1.000000   \n",
       "25%        0.456000     14.000000     13.000000      14.000000      13.000000   \n",
       "50%        0.565000     27.000000     26.000000      27.000000      26.000000   \n",
       "75%        0.811000     40.000000     39.000000      40.000000      39.000000   \n",
       "max        1.000000     52.000000     52.000000      52.000000      52.000000   \n",
       "\n",
       "       community3_id  community4_id  community5_id  \n",
       "count   10000.000000   10000.000000   10000.000000  \n",
       "mean       26.506900      26.501400      26.665500  \n",
       "std        14.938101      15.103715      14.998703  \n",
       "min         1.000000       1.000000       1.000000  \n",
       "25%        14.000000      13.000000      14.000000  \n",
       "50%        26.000000      27.000000      27.000000  \n",
       "75%        39.000000      40.000000      40.000000  \n",
       "max        52.000000      52.000000      52.000000  "
      ]
     },
     "execution_count": 25,
     "metadata": {},
     "output_type": "execute_result"
    }
   ],
   "source": [
    "test_df.describe()"
   ]
  },
  {
   "cell_type": "markdown",
   "metadata": {},
   "source": [
    "# Data Processing"
   ]
  },
  {
   "cell_type": "markdown",
   "metadata": {},
   "source": [
    "## card id -> 1-hot vector"
   ]
  },
  {
   "cell_type": "code",
   "execution_count": 26,
   "metadata": {
    "collapsed": false
   },
   "outputs": [],
   "source": [
    "import numpy as np\n",
    "\n",
    "gen_one_hot = lambda target_ids: [1 if i in target_ids else 0 for i in range(1,53)]\n",
    "fetch_hole = lambda row: [row[key] for key in ['hole1_id', 'hole2_id']]\n",
    "fetch_community = lambda row: [row[key] for key in ['community1_id', 'community2_id', 'community3_id', 'community4_id', 'community5_id']]\n",
    "\n",
    "train_hole_one_hot = train_df.apply(lambda row: gen_one_hot(fetch_hole(row)), axis=1)\n",
    "train_community_one_hot = train_df.apply(lambda row: gen_one_hot(fetch_community(row)), axis=1)\n",
    "train_df[\"onehot\"] = train_hole_one_hot + train_community_one_hot\n",
    "\n",
    "test_hole_one_hot = test_df.apply(lambda row: gen_one_hot(fetch_hole(row)), axis=1)\n",
    "test_community_one_hot = test_df.apply(lambda row: gen_one_hot(fetch_community(row)), axis=1)\n",
    "test_df[\"onehot\"] = test_hole_one_hot + test_community_one_hot"
   ]
  },
  {
   "cell_type": "markdown",
   "metadata": {},
   "source": [
    "## Format data (pandas.df -> numpy.ndarray)"
   ]
  },
  {
   "cell_type": "code",
   "execution_count": 27,
   "metadata": {
    "collapsed": false
   },
   "outputs": [
    {
     "name": "stdout",
     "output_type": "stream",
     "text": [
      "shape of training data => x: (50000, 104), y: (50000,)\n",
      "shape of test data => x: (10000, 104), y: (10000,)\n"
     ]
    }
   ],
   "source": [
    "to_ndarray = lambda X: np.array([np.array(x) for x in X])\n",
    "train_x, train_y = [to_ndarray(array) for array in [train_df[\"onehot\"].values, train_df[\"win_rate\"].values]]\n",
    "test_x, test_y = [to_ndarray(array) for array in [test_df[\"onehot\"].values, test_df[\"win_rate\"].values]]\n",
    "print \"shape of training data => x: %s, y: %s\" % (train_x.shape, train_y.shape)\n",
    "print \"shape of test data => x: %s, y: %s\" % (test_x.shape, test_y.shape)"
   ]
  },
  {
   "cell_type": "markdown",
   "metadata": {},
   "source": [
    "# Create model"
   ]
  },
  {
   "cell_type": "code",
   "execution_count": 28,
   "metadata": {
    "collapsed": false
   },
   "outputs": [],
   "source": [
    "from keras.models import Sequential\n",
    "from keras.layers.core import Dense, Activation, Dropout\n",
    "\n",
    "model = Sequential()\n",
    "model.add(Dense(60, input_dim=104))\n",
    "model.add(Activation(\"relu\"))\n",
    "model.add(Dropout(0.5))\n",
    "model.add(Dense(1))\n",
    "model.compile(loss=\"mse\",  optimizer=\"rmsprop\")"
   ]
  },
  {
   "cell_type": "markdown",
   "metadata": {},
   "source": [
    "# Train model"
   ]
  },
  {
   "cell_type": "code",
   "execution_count": 29,
   "metadata": {
    "collapsed": false
   },
   "outputs": [],
   "source": [
    "history = model.fit(train_x, train_y, batch_size=128, nb_epoch=1000, validation_split=0.1, verbose=0)"
   ]
  },
  {
   "cell_type": "markdown",
   "metadata": {},
   "source": [
    "# Check model performance"
   ]
  },
  {
   "cell_type": "markdown",
   "metadata": {},
   "source": [
    "## Visualize loss transition"
   ]
  },
  {
   "cell_type": "code",
   "execution_count": 30,
   "metadata": {
    "collapsed": false
   },
   "outputs": [
    {
     "data": {
      "image/png": "[encoded data removed]",
      "text/plain": [
       "<matplotlib.figure.Figure at 0x10f640c10>"
      ]
     },
     "metadata": {},
     "output_type": "display_data"
    }
   ],
   "source": [
    "%matplotlib inline\n",
    "import seaborn\n",
    "import matplotlib.pyplot as plt\n",
    "\n",
    "plt.figure(figsize=(10,10))\n",
    "for idx, key in enumerate(history.history, start=1):\n",
    "    plt.subplot(2, 1, idx)\n",
    "    plt.plot(range(len(history.history[key])), history.history[key])\n",
    "    plt.title(key)\n",
    "plt.show()"
   ]
  },
  {
   "cell_type": "markdown",
   "metadata": {},
   "source": [
    "## Test model performance by MSE "
   ]
  },
  {
   "cell_type": "code",
   "execution_count": 32,
   "metadata": {
    "collapsed": false
   },
   "outputs": [],
   "source": [
    "from sklearn.metrics import mean_squared_error\n",
    "\n",
    "def print_model_performance(model, train_x, train_y, test_x, test_y):\n",
    "    print 'MSE on training data = {score}'.format(score=mean_squared_error(model.predict(train_x), train_y))\n",
    "    print 'MSE on test data = {score}'.format(score=mean_squared_error(model.predict(test_x), test_y))"
   ]
  },
  {
   "cell_type": "code",
   "execution_count": 33,
   "metadata": {
    "collapsed": false
   },
   "outputs": [
    {
     "name": "stdout",
     "output_type": "stream",
     "text": [
      "MSE on training data = 0.0355516544872\n",
      "MSE on test data = 0.0396162555858\n"
     ]
    }
   ],
   "source": [
    "print_model_performance(model, train_x, train_y, test_x, test_y)"
   ]
  },
  {
   "cell_type": "markdown",
   "metadata": {},
   "source": [
    "## See model prediction on sample data"
   ]
  },
  {
   "cell_type": "code",
   "execution_count": 34,
   "metadata": {
    "collapsed": false
   },
   "outputs": [
    {
     "name": "stdout",
     "output_type": "stream",
     "text": [
      "HOLE = [HJ, S7], COMMUNITY = [HQ, S6, HA, HT, HK] => win_rate = { prediction=0.504224, expected=1.000000 }\n",
      "HOLE = [SA, H4], COMMUNITY = [S2, S4, D4, HA, H5] => win_rate = { prediction=0.952135, expected=0.993000 }\n",
      "HOLE = [D8, CJ], COMMUNITY = [S3, H6, CT, C5, D4] => win_rate = { prediction=0.507386, expected=0.018000 }\n",
      "HOLE = [D2, SK], COMMUNITY = [D9, C5, D5, HA, H4] => win_rate = { prediction=0.478657, expected=0.501000 }\n"
     ]
    }
   ],
   "source": [
    "from pypokerengine.engine.card import Card\n",
    "C, D, H, S = Card.CLUB, Card.DIAMOND, Card.HEART, Card.SPADE\n",
    "\n",
    "test_case = [\n",
    "    [(11, H), (7, S), (12, H), (6, S), (1, H), (10, H), (13, H), 1.0],\n",
    "    [(1, S), (4, H), (2, S), (4, S), (4, D), (1, H), (5, H), 0.993],\n",
    "    [(8, D), (11, C), (3, S), (6, H), (10, C), (5, C), (4, D), 0.018],\n",
    "    [(2, D), (13, S), (9, D), (5, C), (5, D), (1, H), (4, H), 0.501]\n",
    "]\n",
    "\n",
    "gen_one_hot = lambda target_ids: [1 if i in target_ids else 0 for i in range(1,53)]\n",
    "to_id = lambda card: card.to_id()\n",
    "\n",
    "for card1, card2, card3, card4, card5, card6, card7, expected in test_case:\n",
    "    cards = [Card(rank=rank, suit=suit) for rank, suit in [card1, card2, card3, card4, card5, card6, card7]]\n",
    "    hole = cards[:2]\n",
    "    community = cards[2:]\n",
    "    hole_onehot = gen_one_hot(map(to_id, hole))\n",
    "    community_onehot = gen_one_hot(map(to_id, community))\n",
    "    x = hole_onehot + community_onehot\n",
    "    X = np.array([x])\n",
    "    y = model.predict(X)[0][0]\n",
    "    print \"HOLE = [%s, %s], COMMUNITY = [%s, %s, %s, %s, %s] => win_rate = { prediction=%f, expected=%f }\" % tuple(map(str, hole) + map(str, community) + [y , expected])"
   ]
  }
 ],
 "metadata": {
  "kernelspec": {
   "display_name": "Python 2",
   "language": "python",
   "name": "python2"
  },
  "language_info": {
   "codemirror_mode": {
    "name": "ipython",
    "version": 2
   },
   "file_extension": ".py",
   "mimetype": "text/x-python",
   "name": "python",
   "nbconvert_exporter": "python",
   "pygments_lexer": "ipython2",
   "version": "2.7.11"
  }
 },
 "nbformat": 4,
 "nbformat_minor": 0
}
