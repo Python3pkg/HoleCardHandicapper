{
 "cells": [
  {
   "cell_type": "markdown",
   "metadata": {},
   "source": [
    "# Import learning data"
   ]
  },
  {
   "cell_type": "code",
   "execution_count": 37,
   "metadata": {
    "collapsed": false
   },
   "outputs": [],
   "source": [
    "import pandas as pd\n",
    "\n",
    "data_path = \"../learning_data/data/win_rate/preflop/100-data-100-simulation-2-players-win-rate-data.csv\"\n",
    "df = pd.read_csv(data_path)"
   ]
  },
  {
   "cell_type": "markdown",
   "metadata": {},
   "source": [
    "# About learning data"
   ]
  },
  {
   "cell_type": "code",
   "execution_count": 38,
   "metadata": {
    "collapsed": false
   },
   "outputs": [
    {
     "data": {
      "text/plain": [
       "(100, 5)"
      ]
     },
     "execution_count": 38,
     "metadata": {},
     "output_type": "execute_result"
    }
   ],
   "source": [
    "df.shape"
   ]
  },
  {
   "cell_type": "code",
   "execution_count": 39,
   "metadata": {
    "collapsed": false
   },
   "outputs": [
    {
     "data": {
      "text/html": [
       "<div>\n",
       "<table border=\"1\" class=\"dataframe\">\n",
       "  <thead>\n",
       "    <tr style=\"text-align: right;\">\n",
       "      <th></th>\n",
       "      <th>hole1</th>\n",
       "      <th>hole2</th>\n",
       "      <th>win_rate</th>\n",
       "      <th>hole1_id</th>\n",
       "      <th>hole2_id</th>\n",
       "    </tr>\n",
       "  </thead>\n",
       "  <tbody>\n",
       "    <tr>\n",
       "      <th>0</th>\n",
       "      <td>D4</td>\n",
       "      <td>C6</td>\n",
       "      <td>0.52</td>\n",
       "      <td>17</td>\n",
       "      <td>6</td>\n",
       "    </tr>\n",
       "    <tr>\n",
       "      <th>1</th>\n",
       "      <td>S5</td>\n",
       "      <td>D7</td>\n",
       "      <td>0.57</td>\n",
       "      <td>44</td>\n",
       "      <td>20</td>\n",
       "    </tr>\n",
       "    <tr>\n",
       "      <th>2</th>\n",
       "      <td>D4</td>\n",
       "      <td>HA</td>\n",
       "      <td>0.60</td>\n",
       "      <td>17</td>\n",
       "      <td>27</td>\n",
       "    </tr>\n",
       "    <tr>\n",
       "      <th>3</th>\n",
       "      <td>DA</td>\n",
       "      <td>DK</td>\n",
       "      <td>0.65</td>\n",
       "      <td>14</td>\n",
       "      <td>26</td>\n",
       "    </tr>\n",
       "    <tr>\n",
       "      <th>4</th>\n",
       "      <td>D2</td>\n",
       "      <td>DA</td>\n",
       "      <td>0.54</td>\n",
       "      <td>15</td>\n",
       "      <td>14</td>\n",
       "    </tr>\n",
       "  </tbody>\n",
       "</table>\n",
       "</div>"
      ],
      "text/plain": [
       "  hole1 hole2  win_rate  hole1_id  hole2_id\n",
       "0    D4    C6      0.52        17         6\n",
       "1    S5    D7      0.57        44        20\n",
       "2    D4    HA      0.60        17        27\n",
       "3    DA    DK      0.65        14        26\n",
       "4    D2    DA      0.54        15        14"
      ]
     },
     "execution_count": 39,
     "metadata": {},
     "output_type": "execute_result"
    }
   ],
   "source": [
    "df.head()"
   ]
  },
  {
   "cell_type": "code",
   "execution_count": 40,
   "metadata": {
    "collapsed": false
   },
   "outputs": [
    {
     "data": {
      "text/html": [
       "<div>\n",
       "<table border=\"1\" class=\"dataframe\">\n",
       "  <thead>\n",
       "    <tr style=\"text-align: right;\">\n",
       "      <th></th>\n",
       "      <th>win_rate</th>\n",
       "      <th>hole1_id</th>\n",
       "      <th>hole2_id</th>\n",
       "    </tr>\n",
       "  </thead>\n",
       "  <tbody>\n",
       "    <tr>\n",
       "      <th>count</th>\n",
       "      <td>100.000000</td>\n",
       "      <td>100.000000</td>\n",
       "      <td>100.000000</td>\n",
       "    </tr>\n",
       "    <tr>\n",
       "      <th>mean</th>\n",
       "      <td>0.591900</td>\n",
       "      <td>25.810000</td>\n",
       "      <td>27.210000</td>\n",
       "    </tr>\n",
       "    <tr>\n",
       "      <th>std</th>\n",
       "      <td>0.082801</td>\n",
       "      <td>16.841324</td>\n",
       "      <td>14.161618</td>\n",
       "    </tr>\n",
       "    <tr>\n",
       "      <th>min</th>\n",
       "      <td>0.380000</td>\n",
       "      <td>1.000000</td>\n",
       "      <td>2.000000</td>\n",
       "    </tr>\n",
       "    <tr>\n",
       "      <th>25%</th>\n",
       "      <td>0.530000</td>\n",
       "      <td>11.000000</td>\n",
       "      <td>14.000000</td>\n",
       "    </tr>\n",
       "    <tr>\n",
       "      <th>50%</th>\n",
       "      <td>0.595000</td>\n",
       "      <td>24.500000</td>\n",
       "      <td>25.500000</td>\n",
       "    </tr>\n",
       "    <tr>\n",
       "      <th>75%</th>\n",
       "      <td>0.650000</td>\n",
       "      <td>42.250000</td>\n",
       "      <td>40.250000</td>\n",
       "    </tr>\n",
       "    <tr>\n",
       "      <th>max</th>\n",
       "      <td>0.810000</td>\n",
       "      <td>52.000000</td>\n",
       "      <td>51.000000</td>\n",
       "    </tr>\n",
       "  </tbody>\n",
       "</table>\n",
       "</div>"
      ],
      "text/plain": [
       "         win_rate    hole1_id    hole2_id\n",
       "count  100.000000  100.000000  100.000000\n",
       "mean     0.591900   25.810000   27.210000\n",
       "std      0.082801   16.841324   14.161618\n",
       "min      0.380000    1.000000    2.000000\n",
       "25%      0.530000   11.000000   14.000000\n",
       "50%      0.595000   24.500000   25.500000\n",
       "75%      0.650000   42.250000   40.250000\n",
       "max      0.810000   52.000000   51.000000"
      ]
     },
     "execution_count": 40,
     "metadata": {},
     "output_type": "execute_result"
    }
   ],
   "source": [
    "df.describe()"
   ]
  },
  {
   "cell_type": "markdown",
   "metadata": {},
   "source": [
    "# Data Processing"
   ]
  },
  {
   "cell_type": "markdown",
   "metadata": {},
   "source": [
    "## card id -> 1-hot vector"
   ]
  },
  {
   "cell_type": "code",
   "execution_count": 78,
   "metadata": {
    "collapsed": false
   },
   "outputs": [],
   "source": [
    "import numpy as np\n",
    "\n",
    "gen_one_hot = lambda h1, h2: [1 if i in [h1, h2] else 0 for i in range(1,53)]\n",
    "df[\"onehot\"] = df.apply(lambda row: gen_one_hot(row['hole1_id'], row['hole2_id']), axis=1)"
   ]
  },
  {
   "cell_type": "markdown",
   "metadata": {},
   "source": [
    "## Separate data for training and validation"
   ]
  },
  {
   "cell_type": "code",
   "execution_count": 52,
   "metadata": {
    "collapsed": false
   },
   "outputs": [],
   "source": [
    "validation_rate = 0.1\n",
    "boundary_idx = int(df.shape[0]*(1-validation_rate))\n",
    "train_df = df[:boundary_idx]\n",
    "validation_df = df[boundary_idx:]"
   ]
  },
  {
   "cell_type": "markdown",
   "metadata": {},
   "source": [
    "## Format data (pandas.df -> numpy.ndarray)"
   ]
  },
  {
   "cell_type": "code",
   "execution_count": 108,
   "metadata": {
    "collapsed": false
   },
   "outputs": [
    {
     "name": "stdout",
     "output_type": "stream",
     "text": [
      "shape of training x: (90, 52), y: (90,)\n",
      "shape of validation x: (10, 52), y: (10,)\n"
     ]
    }
   ],
   "source": [
    "to_ndarray = lambda X: np.array([np.array(x) for x in X])\n",
    "train_x, train_y = [to_ndarray(array) for array in [train_df[\"onehot\"].values, train_df[\"win_rate\"].values]]\n",
    "val_x, val_y = [to_ndarray(array) for array in [validation_df[\"onehot\"].values, validation_df[\"win_rate\"].values]]\n",
    "print \"shape of training x: %s, y: %s\" % (train_x.shape, train_y.shape)\n",
    "print \"shape of validation x: %s, y: %s\" % (val_x.shape, val_y.shape)"
   ]
  },
  {
   "cell_type": "markdown",
   "metadata": {},
   "source": [
    "# Create model"
   ]
  },
  {
   "cell_type": "code",
   "execution_count": 133,
   "metadata": {
    "collapsed": false
   },
   "outputs": [],
   "source": [
    "from keras.models import Sequential\n",
    "from keras.layers.core import Dense, Activation, Dropout\n",
    "\n",
    "model = Sequential()\n",
    "model.add(Dense(60, input_dim=52))\n",
    "model.add(Activation(\"relu\"))\n",
    "model.add(Dropout(0.5))\n",
    "model.add(Dense(1))\n",
    "model.compile(loss=\"mse\",  optimizer=\"rmsprop\")"
   ]
  },
  {
   "cell_type": "markdown",
   "metadata": {},
   "source": [
    "# Train model"
   ]
  },
  {
   "cell_type": "code",
   "execution_count": 134,
   "metadata": {
    "collapsed": false
   },
   "outputs": [],
   "source": [
    "history = model.fit(train_x, train_y, batch_size=128, nb_epoch=100, validation_split=0.1, verbose=0)"
   ]
  },
  {
   "cell_type": "markdown",
   "metadata": {},
   "source": [
    "# Check model performance"
   ]
  },
  {
   "cell_type": "markdown",
   "metadata": {},
   "source": [
    "## Visualize loss transition"
   ]
  },
  {
   "cell_type": "code",
   "execution_count": 135,
   "metadata": {
    "collapsed": false
   },
   "outputs": [
    {
     "data": {
      "image/png": "[encoded data removed]",
      "text/plain": [
       "<matplotlib.figure.Figure at 0x10b2a6c90>"
      ]
     },
     "metadata": {},
     "output_type": "display_data"
    }
   ],
   "source": [
    "%matplotlib inline\n",
    "import seaborn\n",
    "import matplotlib.pyplot as plt\n",
    "\n",
    "plt.figure(figsize=(10,10))\n",
    "for idx, key in enumerate(history.history, start=1):\n",
    "    plt.subplot(2, 2, idx)\n",
    "    plt.plot(range(len(history.history[key])), history.history[key])\n",
    "    plt.title(key)\n",
    "plt.show()"
   ]
  },
  {
   "cell_type": "markdown",
   "metadata": {},
   "source": [
    "## Test model performance by MSE "
   ]
  },
  {
   "cell_type": "code",
   "execution_count": 136,
   "metadata": {
    "collapsed": false
   },
   "outputs": [],
   "source": [
    "from sklearn.metrics import mean_squared_error\n",
    "\n",
    "def print_model_performance(model, train_x, train_y, val_x, val_y):\n",
    "    print 'MSE on training data = {score}'.format(score=mean_squared_error(model.predict(train_x), train_y))\n",
    "    print 'MSE on validation data = {score}'.format(score=mean_squared_error(model.predict(val_x), val_y))"
   ]
  },
  {
   "cell_type": "code",
   "execution_count": 137,
   "metadata": {
    "collapsed": false
   },
   "outputs": [
    {
     "name": "stdout",
     "output_type": "stream",
     "text": [
      "MSE on training data = 0.00476947814604\n",
      "MSE on validation data = 0.00924746102972\n"
     ]
    }
   ],
   "source": [
    "print_model_performance(model, train_x, train_y, val_x, val_y)"
   ]
  },
  {
   "cell_type": "markdown",
   "metadata": {},
   "source": [
    "## See model prediction on sample data"
   ]
  },
  {
   "cell_type": "code",
   "execution_count": 153,
   "metadata": {
    "collapsed": false
   },
   "outputs": [
    {
     "name": "stdout",
     "output_type": "stream",
     "text": [
      "HOLE = [SA, CA] => win_rate = { prediction=0.746346, expected=0.871000 }\n",
      "HOLE = [H3, S2] => win_rate = { prediction=0.459061, expected=0.477000 }\n",
      "HOLE = [CT, HK] => win_rate = { prediction=0.194115, expected=0.676000 }\n"
     ]
    }
   ],
   "source": [
    "from pypokerengine.engine.card import Card\n",
    "\n",
    "test_case = [\n",
    "    (1, Card.SPADE, 1, Card.CLUB, 0.871), \n",
    "    (3, Card.HEART, 2, Card.SPADE, 0.477),\n",
    "    (10, Card.CLUB, 13, Card.HEART, 0.676)\n",
    "]\n",
    "gen_one_hot = lambda h1, h2: [1 if i in [h1, h2] else 0 for i in range(1,53)]\n",
    "\n",
    "df = pd.DataFrame()\n",
    "for rank1, suit1, rank2, suit2, expected in test_case:\n",
    "    hole1 = Card(rank=rank1, suit=suit1)\n",
    "    hole2 = Card(rank=rank2, suit=suit2)\n",
    "    hole = [hole1, hole2]\n",
    "    x = gen_one_hot(*[card.to_id() for card in hole])\n",
    "    X = np.array([x])\n",
    "    y = model.predict(X)[0][0]\n",
    "    print \"HOLE = [%s, %s] => win_rate = { prediction=%f, expected=%f }\" % tuple(map(str, hole)+ [y , expected])"
   ]
  }
 ],
 "metadata": {
  "kernelspec": {
   "display_name": "Python 2",
   "language": "python",
   "name": "python2"
  },
  "language_info": {
   "codemirror_mode": {
    "name": "ipython",
    "version": 2
   },
   "file_extension": ".py",
   "mimetype": "text/x-python",
   "name": "python",
   "nbconvert_exporter": "python",
   "pygments_lexer": "ipython2",
   "version": "2.7.11"
  }
 },
 "nbformat": 4,
 "nbformat_minor": 0
}
