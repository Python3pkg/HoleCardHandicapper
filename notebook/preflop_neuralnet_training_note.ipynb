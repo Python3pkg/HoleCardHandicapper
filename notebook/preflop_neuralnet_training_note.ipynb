{
 "cells": [
  {
   "cell_type": "markdown",
   "metadata": {},
   "source": [
    "# Import learning data"
   ]
  },
  {
   "cell_type": "code",
   "execution_count": 164,
   "metadata": {
    "collapsed": false
   },
   "outputs": [],
   "source": [
    "import pandas as pd\n",
    "\n",
    "training_data_path = \"../learning_data/data/win_rate/preflop/50000-data-1000-simulation-2-players-win-rate-data.csv\"\n",
    "test_data_path = \"../learning_data/data/win_rate/preflop/10000-data-1000-simulation-2-players-win-rate-data.csv\"\n",
    "train_df = pd.read_csv(training_data_path)\n",
    "test_df = pd.read_csv(test_data_path)"
   ]
  },
  {
   "cell_type": "markdown",
   "metadata": {},
   "source": [
    "# About learning data"
   ]
  },
  {
   "cell_type": "code",
   "execution_count": 165,
   "metadata": {
    "collapsed": false
   },
   "outputs": [
    {
     "name": "stdout",
     "output_type": "stream",
     "text": [
      "(50000, 5) (10000, 5)\n"
     ]
    }
   ],
   "source": [
    "print train_df.shape, test_df.shape"
   ]
  },
  {
   "cell_type": "code",
   "execution_count": 166,
   "metadata": {
    "collapsed": false
   },
   "outputs": [
    {
     "data": {
      "text/html": [
       "<div>\n",
       "<table border=\"1\" class=\"dataframe\">\n",
       "  <thead>\n",
       "    <tr style=\"text-align: right;\">\n",
       "      <th></th>\n",
       "      <th>hole1</th>\n",
       "      <th>hole2</th>\n",
       "      <th>win_rate</th>\n",
       "      <th>hole1_id</th>\n",
       "      <th>hole2_id</th>\n",
       "    </tr>\n",
       "  </thead>\n",
       "  <tbody>\n",
       "    <tr>\n",
       "      <th>0</th>\n",
       "      <td>ST</td>\n",
       "      <td>S5</td>\n",
       "      <td>0.557</td>\n",
       "      <td>49</td>\n",
       "      <td>44</td>\n",
       "    </tr>\n",
       "    <tr>\n",
       "      <th>1</th>\n",
       "      <td>S6</td>\n",
       "      <td>H7</td>\n",
       "      <td>0.527</td>\n",
       "      <td>45</td>\n",
       "      <td>33</td>\n",
       "    </tr>\n",
       "    <tr>\n",
       "      <th>2</th>\n",
       "      <td>C6</td>\n",
       "      <td>C2</td>\n",
       "      <td>0.534</td>\n",
       "      <td>6</td>\n",
       "      <td>2</td>\n",
       "    </tr>\n",
       "    <tr>\n",
       "      <th>3</th>\n",
       "      <td>S6</td>\n",
       "      <td>D7</td>\n",
       "      <td>0.547</td>\n",
       "      <td>45</td>\n",
       "      <td>20</td>\n",
       "    </tr>\n",
       "    <tr>\n",
       "      <th>4</th>\n",
       "      <td>D5</td>\n",
       "      <td>S5</td>\n",
       "      <td>0.600</td>\n",
       "      <td>18</td>\n",
       "      <td>44</td>\n",
       "    </tr>\n",
       "  </tbody>\n",
       "</table>\n",
       "</div>"
      ],
      "text/plain": [
       "  hole1 hole2  win_rate  hole1_id  hole2_id\n",
       "0    ST    S5     0.557        49        44\n",
       "1    S6    H7     0.527        45        33\n",
       "2    C6    C2     0.534         6         2\n",
       "3    S6    D7     0.547        45        20\n",
       "4    D5    S5     0.600        18        44"
      ]
     },
     "execution_count": 166,
     "metadata": {},
     "output_type": "execute_result"
    }
   ],
   "source": [
    "train_df.head()"
   ]
  },
  {
   "cell_type": "code",
   "execution_count": 159,
   "metadata": {
    "collapsed": false
   },
   "outputs": [
    {
     "data": {
      "text/html": [
       "<div>\n",
       "<table border=\"1\" class=\"dataframe\">\n",
       "  <thead>\n",
       "    <tr style=\"text-align: right;\">\n",
       "      <th></th>\n",
       "      <th>win_rate</th>\n",
       "      <th>hole1_id</th>\n",
       "      <th>hole2_id</th>\n",
       "    </tr>\n",
       "  </thead>\n",
       "  <tbody>\n",
       "    <tr>\n",
       "      <th>count</th>\n",
       "      <td>50000.000000</td>\n",
       "      <td>50000.000000</td>\n",
       "      <td>50000.000000</td>\n",
       "    </tr>\n",
       "    <tr>\n",
       "      <th>mean</th>\n",
       "      <td>0.585750</td>\n",
       "      <td>26.515840</td>\n",
       "      <td>26.430540</td>\n",
       "    </tr>\n",
       "    <tr>\n",
       "      <th>std</th>\n",
       "      <td>0.062115</td>\n",
       "      <td>15.014268</td>\n",
       "      <td>14.997453</td>\n",
       "    </tr>\n",
       "    <tr>\n",
       "      <th>min</th>\n",
       "      <td>0.421000</td>\n",
       "      <td>1.000000</td>\n",
       "      <td>1.000000</td>\n",
       "    </tr>\n",
       "    <tr>\n",
       "      <th>25%</th>\n",
       "      <td>0.544000</td>\n",
       "      <td>13.000000</td>\n",
       "      <td>13.000000</td>\n",
       "    </tr>\n",
       "    <tr>\n",
       "      <th>50%</th>\n",
       "      <td>0.583000</td>\n",
       "      <td>27.000000</td>\n",
       "      <td>26.000000</td>\n",
       "    </tr>\n",
       "    <tr>\n",
       "      <th>75%</th>\n",
       "      <td>0.623000</td>\n",
       "      <td>40.000000</td>\n",
       "      <td>40.000000</td>\n",
       "    </tr>\n",
       "    <tr>\n",
       "      <th>max</th>\n",
       "      <td>0.889000</td>\n",
       "      <td>52.000000</td>\n",
       "      <td>52.000000</td>\n",
       "    </tr>\n",
       "  </tbody>\n",
       "</table>\n",
       "</div>"
      ],
      "text/plain": [
       "           win_rate      hole1_id      hole2_id\n",
       "count  50000.000000  50000.000000  50000.000000\n",
       "mean       0.585750     26.515840     26.430540\n",
       "std        0.062115     15.014268     14.997453\n",
       "min        0.421000      1.000000      1.000000\n",
       "25%        0.544000     13.000000     13.000000\n",
       "50%        0.583000     27.000000     26.000000\n",
       "75%        0.623000     40.000000     40.000000\n",
       "max        0.889000     52.000000     52.000000"
      ]
     },
     "execution_count": 159,
     "metadata": {},
     "output_type": "execute_result"
    }
   ],
   "source": [
    "train_df.describe()"
   ]
  },
  {
   "cell_type": "code",
   "execution_count": 160,
   "metadata": {
    "collapsed": false
   },
   "outputs": [
    {
     "data": {
      "text/html": [
       "<div>\n",
       "<table border=\"1\" class=\"dataframe\">\n",
       "  <thead>\n",
       "    <tr style=\"text-align: right;\">\n",
       "      <th></th>\n",
       "      <th>win_rate</th>\n",
       "      <th>hole1_id</th>\n",
       "      <th>hole2_id</th>\n",
       "    </tr>\n",
       "  </thead>\n",
       "  <tbody>\n",
       "    <tr>\n",
       "      <th>count</th>\n",
       "      <td>10000.000000</td>\n",
       "      <td>10000.000000</td>\n",
       "      <td>10000.000000</td>\n",
       "    </tr>\n",
       "    <tr>\n",
       "      <th>mean</th>\n",
       "      <td>0.585766</td>\n",
       "      <td>26.518600</td>\n",
       "      <td>26.689300</td>\n",
       "    </tr>\n",
       "    <tr>\n",
       "      <th>std</th>\n",
       "      <td>0.063277</td>\n",
       "      <td>15.105796</td>\n",
       "      <td>14.934968</td>\n",
       "    </tr>\n",
       "    <tr>\n",
       "      <th>min</th>\n",
       "      <td>0.427000</td>\n",
       "      <td>1.000000</td>\n",
       "      <td>1.000000</td>\n",
       "    </tr>\n",
       "    <tr>\n",
       "      <th>25%</th>\n",
       "      <td>0.543000</td>\n",
       "      <td>13.000000</td>\n",
       "      <td>14.000000</td>\n",
       "    </tr>\n",
       "    <tr>\n",
       "      <th>50%</th>\n",
       "      <td>0.583000</td>\n",
       "      <td>27.000000</td>\n",
       "      <td>27.000000</td>\n",
       "    </tr>\n",
       "    <tr>\n",
       "      <th>75%</th>\n",
       "      <td>0.622000</td>\n",
       "      <td>40.000000</td>\n",
       "      <td>40.000000</td>\n",
       "    </tr>\n",
       "    <tr>\n",
       "      <th>max</th>\n",
       "      <td>0.881000</td>\n",
       "      <td>52.000000</td>\n",
       "      <td>52.000000</td>\n",
       "    </tr>\n",
       "  </tbody>\n",
       "</table>\n",
       "</div>"
      ],
      "text/plain": [
       "           win_rate      hole1_id      hole2_id\n",
       "count  10000.000000  10000.000000  10000.000000\n",
       "mean       0.585766     26.518600     26.689300\n",
       "std        0.063277     15.105796     14.934968\n",
       "min        0.427000      1.000000      1.000000\n",
       "25%        0.543000     13.000000     14.000000\n",
       "50%        0.583000     27.000000     27.000000\n",
       "75%        0.622000     40.000000     40.000000\n",
       "max        0.881000     52.000000     52.000000"
      ]
     },
     "execution_count": 160,
     "metadata": {},
     "output_type": "execute_result"
    }
   ],
   "source": [
    "test_df.describe()"
   ]
  },
  {
   "cell_type": "markdown",
   "metadata": {},
   "source": [
    "# Data Processing"
   ]
  },
  {
   "cell_type": "markdown",
   "metadata": {},
   "source": [
    "## card id -> 1-hot vector"
   ]
  },
  {
   "cell_type": "code",
   "execution_count": 167,
   "metadata": {
    "collapsed": false
   },
   "outputs": [],
   "source": [
    "import numpy as np\n",
    "\n",
    "gen_one_hot = lambda h1, h2: [1 if i in [h1, h2] else 0 for i in range(1,53)]\n",
    "train_df[\"onehot\"] = train_df.apply(lambda row: gen_one_hot(row['hole1_id'], row['hole2_id']), axis=1)\n",
    "test_df[\"onehot\"] = test_df.apply(lambda row: gen_one_hot(row['hole1_id'], row['hole2_id']), axis=1)"
   ]
  },
  {
   "cell_type": "markdown",
   "metadata": {},
   "source": [
    "## Format data (pandas.df -> numpy.ndarray)"
   ]
  },
  {
   "cell_type": "code",
   "execution_count": 180,
   "metadata": {
    "collapsed": false
   },
   "outputs": [
    {
     "name": "stdout",
     "output_type": "stream",
     "text": [
      "shape of training data => x: (40000, 52), y: (40000,)\n",
      "shape of test data => x: (10000, 52), y: (10000,)\n"
     ]
    }
   ],
   "source": [
    "to_ndarray = lambda X: np.array([np.array(x) for x in X])\n",
    "train_x, train_y = [to_ndarray(array) for array in [train_df[\"onehot\"].values, train_df[\"win_rate\"].values]]\n",
    "test_x, test_y = [to_ndarray(array) for array in [test_df[\"onehot\"].values, test_df[\"win_rate\"].values]]\n",
    "print \"shape of training data => x: %s, y: %s\" % (train_x.shape, train_y.shape)\n",
    "print \"shape of test data => x: %s, y: %s\" % (val_x.shape, val_y.shape)"
   ]
  },
  {
   "cell_type": "markdown",
   "metadata": {},
   "source": [
    "# Create model"
   ]
  },
  {
   "cell_type": "code",
   "execution_count": 171,
   "metadata": {
    "collapsed": false
   },
   "outputs": [],
   "source": [
    "from keras.models import Sequential\n",
    "from keras.layers.core import Dense, Activation, Dropout\n",
    "\n",
    "model = Sequential()\n",
    "model.add(Dense(60, input_dim=52))\n",
    "model.add(Activation(\"relu\"))\n",
    "model.add(Dropout(0.5))\n",
    "model.add(Dense(1))\n",
    "model.compile(loss=\"mse\",  optimizer=\"rmsprop\")"
   ]
  },
  {
   "cell_type": "markdown",
   "metadata": {},
   "source": [
    "# Train model"
   ]
  },
  {
   "cell_type": "code",
   "execution_count": 172,
   "metadata": {
    "collapsed": false
   },
   "outputs": [],
   "source": [
    "history = model.fit(train_x, train_y, batch_size=128, nb_epoch=1000, validation_split=0.1, verbose=0)"
   ]
  },
  {
   "cell_type": "markdown",
   "metadata": {},
   "source": [
    "# Check model performance"
   ]
  },
  {
   "cell_type": "markdown",
   "metadata": {},
   "source": [
    "## Visualize loss transition"
   ]
  },
  {
   "cell_type": "code",
   "execution_count": 174,
   "metadata": {
    "collapsed": false
   },
   "outputs": [
    {
     "data": {
      "image/png": "[encoded data removed]",
      "text/plain": [
       "<matplotlib.figure.Figure at 0x109f9abd0>"
      ]
     },
     "metadata": {},
     "output_type": "display_data"
    }
   ],
   "source": [
    "%matplotlib inline\n",
    "import seaborn\n",
    "import matplotlib.pyplot as plt\n",
    "\n",
    "plt.figure(figsize=(10,10))\n",
    "for idx, key in enumerate(history.history, start=1):\n",
    "    plt.subplot(2, 1, idx)\n",
    "    plt.plot(range(len(history.history[key])), history.history[key])\n",
    "    plt.title(key)\n",
    "plt.show()"
   ]
  },
  {
   "cell_type": "markdown",
   "metadata": {},
   "source": [
    "## Test model performance by MSE "
   ]
  },
  {
   "cell_type": "code",
   "execution_count": 178,
   "metadata": {
    "collapsed": false
   },
   "outputs": [],
   "source": [
    "from sklearn.metrics import mean_squared_error\n",
    "\n",
    "def print_model_performance(model, train_x, train_y, test_x, test_y):\n",
    "    print 'MSE on training data = {score}'.format(score=mean_squared_error(model.predict(train_x), train_y))\n",
    "    print 'MSE on test data = {score}'.format(score=mean_squared_error(model.predict(test_x), test_y))"
   ]
  },
  {
   "cell_type": "code",
   "execution_count": 179,
   "metadata": {
    "collapsed": false
   },
   "outputs": [
    {
     "name": "stdout",
     "output_type": "stream",
     "text": [
      "MSE on training data = 0.000388531779299\n",
      "MSE on test data = 0.000407883641716\n"
     ]
    }
   ],
   "source": [
    "print_model_performance(model, train_x, train_y, test_x, test_y)"
   ]
  },
  {
   "cell_type": "markdown",
   "metadata": {},
   "source": [
    "## See model prediction on sample data"
   ]
  },
  {
   "cell_type": "code",
   "execution_count": 177,
   "metadata": {
    "collapsed": false
   },
   "outputs": [
    {
     "name": "stdout",
     "output_type": "stream",
     "text": [
      "HOLE = [SA, CA] => win_rate = { prediction=0.832442, expected=0.871000 }\n",
      "HOLE = [H3, S2] => win_rate = { prediction=0.492687, expected=0.477000 }\n",
      "HOLE = [CT, HK] => win_rate = { prediction=0.647034, expected=0.676000 }\n"
     ]
    }
   ],
   "source": [
    "from pypokerengine.engine.card import Card\n",
    "\n",
    "test_case = [\n",
    "    (1, Card.SPADE, 1, Card.CLUB, 0.871), \n",
    "    (3, Card.HEART, 2, Card.SPADE, 0.477),\n",
    "    (10, Card.CLUB, 13, Card.HEART, 0.676)\n",
    "]\n",
    "gen_one_hot = lambda h1, h2: [1 if i in [h1, h2] else 0 for i in range(1,53)]\n",
    "\n",
    "df = pd.DataFrame()\n",
    "for rank1, suit1, rank2, suit2, expected in test_case:\n",
    "    hole1 = Card(rank=rank1, suit=suit1)\n",
    "    hole2 = Card(rank=rank2, suit=suit2)\n",
    "    hole = [hole1, hole2]\n",
    "    x = gen_one_hot(*[card.to_id() for card in hole])\n",
    "    X = np.array([x])\n",
    "    y = model.predict(X)[0][0]\n",
    "    print \"HOLE = [%s, %s] => win_rate = { prediction=%f, expected=%f }\" % tuple(map(str, hole)+ [y , expected])"
   ]
  }
 ],
 "metadata": {
  "kernelspec": {
   "display_name": "Python 2",
   "language": "python",
   "name": "python2"
  },
  "language_info": {
   "codemirror_mode": {
    "name": "ipython",
    "version": 2
   },
   "file_extension": ".py",
   "mimetype": "text/x-python",
   "name": "python",
   "nbconvert_exporter": "python",
   "pygments_lexer": "ipython2",
   "version": "2.7.11"
  }
 },
 "nbformat": 4,
 "nbformat_minor": 0
}
