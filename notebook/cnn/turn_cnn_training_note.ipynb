{
 "cells": [
  {
   "cell_type": "markdown",
   "metadata": {},
   "source": [
    "# Import learning data"
   ]
  },
  {
   "cell_type": "code",
   "execution_count": 1,
   "metadata": {
    "collapsed": false
   },
   "outputs": [],
   "source": [
    "import pandas as pd\n",
    "\n",
    "training_data1_path = \"../../learning_data/data/win_rate/turn/50000-data-1000-simulation-2-players-win-rate-data.csv\"\n",
    "training_data2_path = \"../../learning_data/data/win_rate/turn/100000-data-1000-simulation-2-players-win-rate-data.csv\"\n",
    "test_data_path = \"../../learning_data/data/win_rate/turn/10000-data-1000-simulation-2-players-win-rate-data.csv\"\n",
    "train1_df = pd.read_csv(training_data1_path)\n",
    "train2_df = pd.read_csv(training_data2_path)\n",
    "train_df = train1_df.append(train2_df, ignore_index=True)\n",
    "test_df = pd.read_csv(test_data_path)"
   ]
  },
  {
   "cell_type": "markdown",
   "metadata": {},
   "source": [
    "# About learning data"
   ]
  },
  {
   "cell_type": "code",
   "execution_count": 2,
   "metadata": {
    "collapsed": false
   },
   "outputs": [
    {
     "name": "stdout",
     "output_type": "stream",
     "text": [
      "(150000, 13) (10000, 13)\n"
     ]
    }
   ],
   "source": [
    "print train_df.shape, test_df.shape"
   ]
  },
  {
   "cell_type": "code",
   "execution_count": 3,
   "metadata": {
    "collapsed": false
   },
   "outputs": [
    {
     "data": {
      "text/html": [
       "<div>\n",
       "<table border=\"1\" class=\"dataframe\">\n",
       "  <thead>\n",
       "    <tr style=\"text-align: right;\">\n",
       "      <th></th>\n",
       "      <th>hole1</th>\n",
       "      <th>hole2</th>\n",
       "      <th>community1</th>\n",
       "      <th>community2</th>\n",
       "      <th>community3</th>\n",
       "      <th>community4</th>\n",
       "      <th>win_rate</th>\n",
       "      <th>hole1_id</th>\n",
       "      <th>hole2_id</th>\n",
       "      <th>community1_id</th>\n",
       "      <th>community2_id</th>\n",
       "      <th>community3_id</th>\n",
       "      <th>community4_id</th>\n",
       "    </tr>\n",
       "  </thead>\n",
       "  <tbody>\n",
       "    <tr>\n",
       "      <th>0</th>\n",
       "      <td>S8</td>\n",
       "      <td>C7</td>\n",
       "      <td>D8</td>\n",
       "      <td>S6</td>\n",
       "      <td>H8</td>\n",
       "      <td>H4</td>\n",
       "      <td>0.969</td>\n",
       "      <td>47</td>\n",
       "      <td>7</td>\n",
       "      <td>21</td>\n",
       "      <td>45</td>\n",
       "      <td>34</td>\n",
       "      <td>30</td>\n",
       "    </tr>\n",
       "    <tr>\n",
       "      <th>1</th>\n",
       "      <td>H9</td>\n",
       "      <td>SA</td>\n",
       "      <td>HJ</td>\n",
       "      <td>D7</td>\n",
       "      <td>HK</td>\n",
       "      <td>S5</td>\n",
       "      <td>0.459</td>\n",
       "      <td>35</td>\n",
       "      <td>40</td>\n",
       "      <td>37</td>\n",
       "      <td>20</td>\n",
       "      <td>39</td>\n",
       "      <td>44</td>\n",
       "    </tr>\n",
       "    <tr>\n",
       "      <th>2</th>\n",
       "      <td>SK</td>\n",
       "      <td>D2</td>\n",
       "      <td>H2</td>\n",
       "      <td>CT</td>\n",
       "      <td>HJ</td>\n",
       "      <td>D9</td>\n",
       "      <td>0.531</td>\n",
       "      <td>52</td>\n",
       "      <td>15</td>\n",
       "      <td>28</td>\n",
       "      <td>10</td>\n",
       "      <td>37</td>\n",
       "      <td>22</td>\n",
       "    </tr>\n",
       "    <tr>\n",
       "      <th>3</th>\n",
       "      <td>D3</td>\n",
       "      <td>C2</td>\n",
       "      <td>S8</td>\n",
       "      <td>CJ</td>\n",
       "      <td>H2</td>\n",
       "      <td>C5</td>\n",
       "      <td>0.520</td>\n",
       "      <td>16</td>\n",
       "      <td>2</td>\n",
       "      <td>47</td>\n",
       "      <td>11</td>\n",
       "      <td>28</td>\n",
       "      <td>5</td>\n",
       "    </tr>\n",
       "    <tr>\n",
       "      <th>4</th>\n",
       "      <td>S4</td>\n",
       "      <td>C5</td>\n",
       "      <td>CJ</td>\n",
       "      <td>HJ</td>\n",
       "      <td>H2</td>\n",
       "      <td>H6</td>\n",
       "      <td>0.591</td>\n",
       "      <td>43</td>\n",
       "      <td>5</td>\n",
       "      <td>11</td>\n",
       "      <td>37</td>\n",
       "      <td>28</td>\n",
       "      <td>32</td>\n",
       "    </tr>\n",
       "  </tbody>\n",
       "</table>\n",
       "</div>"
      ],
      "text/plain": [
       "  hole1 hole2 community1 community2 community3 community4  win_rate  hole1_id  \\\n",
       "0    S8    C7         D8         S6         H8         H4     0.969        47   \n",
       "1    H9    SA         HJ         D7         HK         S5     0.459        35   \n",
       "2    SK    D2         H2         CT         HJ         D9     0.531        52   \n",
       "3    D3    C2         S8         CJ         H2         C5     0.520        16   \n",
       "4    S4    C5         CJ         HJ         H2         H6     0.591        43   \n",
       "\n",
       "   hole2_id  community1_id  community2_id  community3_id  community4_id  \n",
       "0         7             21             45             34             30  \n",
       "1        40             37             20             39             44  \n",
       "2        15             28             10             37             22  \n",
       "3         2             47             11             28              5  \n",
       "4         5             11             37             28             32  "
      ]
     },
     "execution_count": 3,
     "metadata": {},
     "output_type": "execute_result"
    }
   ],
   "source": [
    "train_df.head()"
   ]
  },
  {
   "cell_type": "code",
   "execution_count": 4,
   "metadata": {
    "collapsed": false
   },
   "outputs": [
    {
     "data": {
      "text/html": [
       "<div>\n",
       "<table border=\"1\" class=\"dataframe\">\n",
       "  <thead>\n",
       "    <tr style=\"text-align: right;\">\n",
       "      <th></th>\n",
       "      <th>win_rate</th>\n",
       "      <th>hole1_id</th>\n",
       "      <th>hole2_id</th>\n",
       "      <th>community1_id</th>\n",
       "      <th>community2_id</th>\n",
       "      <th>community3_id</th>\n",
       "      <th>community4_id</th>\n",
       "    </tr>\n",
       "  </thead>\n",
       "  <tbody>\n",
       "    <tr>\n",
       "      <th>count</th>\n",
       "      <td>150000.000000</td>\n",
       "      <td>150000.000000</td>\n",
       "      <td>150000.000000</td>\n",
       "      <td>150000.000000</td>\n",
       "      <td>150000.000000</td>\n",
       "      <td>150000.000000</td>\n",
       "      <td>150000.000000</td>\n",
       "    </tr>\n",
       "    <tr>\n",
       "      <th>mean</th>\n",
       "      <td>0.585071</td>\n",
       "      <td>26.521973</td>\n",
       "      <td>26.477533</td>\n",
       "      <td>26.488147</td>\n",
       "      <td>26.463247</td>\n",
       "      <td>26.513620</td>\n",
       "      <td>26.509133</td>\n",
       "    </tr>\n",
       "    <tr>\n",
       "      <th>std</th>\n",
       "      <td>0.196277</td>\n",
       "      <td>15.007795</td>\n",
       "      <td>15.004448</td>\n",
       "      <td>15.009793</td>\n",
       "      <td>14.992676</td>\n",
       "      <td>14.978887</td>\n",
       "      <td>15.002317</td>\n",
       "    </tr>\n",
       "    <tr>\n",
       "      <th>min</th>\n",
       "      <td>0.107000</td>\n",
       "      <td>1.000000</td>\n",
       "      <td>1.000000</td>\n",
       "      <td>1.000000</td>\n",
       "      <td>1.000000</td>\n",
       "      <td>1.000000</td>\n",
       "      <td>1.000000</td>\n",
       "    </tr>\n",
       "    <tr>\n",
       "      <th>25%</th>\n",
       "      <td>0.430000</td>\n",
       "      <td>14.000000</td>\n",
       "      <td>13.000000</td>\n",
       "      <td>14.000000</td>\n",
       "      <td>13.000000</td>\n",
       "      <td>14.000000</td>\n",
       "      <td>14.000000</td>\n",
       "    </tr>\n",
       "    <tr>\n",
       "      <th>50%</th>\n",
       "      <td>0.582000</td>\n",
       "      <td>27.000000</td>\n",
       "      <td>27.000000</td>\n",
       "      <td>26.000000</td>\n",
       "      <td>26.000000</td>\n",
       "      <td>27.000000</td>\n",
       "      <td>27.000000</td>\n",
       "    </tr>\n",
       "    <tr>\n",
       "      <th>75%</th>\n",
       "      <td>0.722000</td>\n",
       "      <td>40.000000</td>\n",
       "      <td>39.000000</td>\n",
       "      <td>39.000000</td>\n",
       "      <td>39.000000</td>\n",
       "      <td>39.000000</td>\n",
       "      <td>39.000000</td>\n",
       "    </tr>\n",
       "    <tr>\n",
       "      <th>max</th>\n",
       "      <td>1.000000</td>\n",
       "      <td>52.000000</td>\n",
       "      <td>52.000000</td>\n",
       "      <td>52.000000</td>\n",
       "      <td>52.000000</td>\n",
       "      <td>52.000000</td>\n",
       "      <td>52.000000</td>\n",
       "    </tr>\n",
       "  </tbody>\n",
       "</table>\n",
       "</div>"
      ],
      "text/plain": [
       "            win_rate       hole1_id       hole2_id  community1_id  \\\n",
       "count  150000.000000  150000.000000  150000.000000  150000.000000   \n",
       "mean        0.585071      26.521973      26.477533      26.488147   \n",
       "std         0.196277      15.007795      15.004448      15.009793   \n",
       "min         0.107000       1.000000       1.000000       1.000000   \n",
       "25%         0.430000      14.000000      13.000000      14.000000   \n",
       "50%         0.582000      27.000000      27.000000      26.000000   \n",
       "75%         0.722000      40.000000      39.000000      39.000000   \n",
       "max         1.000000      52.000000      52.000000      52.000000   \n",
       "\n",
       "       community2_id  community3_id  community4_id  \n",
       "count  150000.000000  150000.000000  150000.000000  \n",
       "mean       26.463247      26.513620      26.509133  \n",
       "std        14.992676      14.978887      15.002317  \n",
       "min         1.000000       1.000000       1.000000  \n",
       "25%        13.000000      14.000000      14.000000  \n",
       "50%        26.000000      27.000000      27.000000  \n",
       "75%        39.000000      39.000000      39.000000  \n",
       "max        52.000000      52.000000      52.000000  "
      ]
     },
     "execution_count": 4,
     "metadata": {},
     "output_type": "execute_result"
    }
   ],
   "source": [
    "train_df.describe()"
   ]
  },
  {
   "cell_type": "code",
   "execution_count": 5,
   "metadata": {
    "collapsed": false
   },
   "outputs": [
    {
     "data": {
      "text/html": [
       "<div>\n",
       "<table border=\"1\" class=\"dataframe\">\n",
       "  <thead>\n",
       "    <tr style=\"text-align: right;\">\n",
       "      <th></th>\n",
       "      <th>win_rate</th>\n",
       "      <th>hole1_id</th>\n",
       "      <th>hole2_id</th>\n",
       "      <th>community1_id</th>\n",
       "      <th>community2_id</th>\n",
       "      <th>community3_id</th>\n",
       "      <th>community4_id</th>\n",
       "    </tr>\n",
       "  </thead>\n",
       "  <tbody>\n",
       "    <tr>\n",
       "      <th>count</th>\n",
       "      <td>10000.000000</td>\n",
       "      <td>10000.000000</td>\n",
       "      <td>10000.000000</td>\n",
       "      <td>10000.000000</td>\n",
       "      <td>10000.00000</td>\n",
       "      <td>10000.000000</td>\n",
       "      <td>10000.000000</td>\n",
       "    </tr>\n",
       "    <tr>\n",
       "      <th>mean</th>\n",
       "      <td>0.584710</td>\n",
       "      <td>26.443700</td>\n",
       "      <td>26.590600</td>\n",
       "      <td>26.589900</td>\n",
       "      <td>26.45000</td>\n",
       "      <td>26.648700</td>\n",
       "      <td>26.451400</td>\n",
       "    </tr>\n",
       "    <tr>\n",
       "      <th>std</th>\n",
       "      <td>0.196106</td>\n",
       "      <td>15.064466</td>\n",
       "      <td>14.913062</td>\n",
       "      <td>14.970869</td>\n",
       "      <td>14.87904</td>\n",
       "      <td>14.876902</td>\n",
       "      <td>15.142436</td>\n",
       "    </tr>\n",
       "    <tr>\n",
       "      <th>min</th>\n",
       "      <td>0.145000</td>\n",
       "      <td>1.000000</td>\n",
       "      <td>1.000000</td>\n",
       "      <td>1.000000</td>\n",
       "      <td>1.00000</td>\n",
       "      <td>1.000000</td>\n",
       "      <td>1.000000</td>\n",
       "    </tr>\n",
       "    <tr>\n",
       "      <th>25%</th>\n",
       "      <td>0.428000</td>\n",
       "      <td>13.000000</td>\n",
       "      <td>14.000000</td>\n",
       "      <td>14.000000</td>\n",
       "      <td>14.00000</td>\n",
       "      <td>14.000000</td>\n",
       "      <td>13.000000</td>\n",
       "    </tr>\n",
       "    <tr>\n",
       "      <th>50%</th>\n",
       "      <td>0.583000</td>\n",
       "      <td>26.000000</td>\n",
       "      <td>27.000000</td>\n",
       "      <td>27.000000</td>\n",
       "      <td>27.00000</td>\n",
       "      <td>27.000000</td>\n",
       "      <td>26.000000</td>\n",
       "    </tr>\n",
       "    <tr>\n",
       "      <th>75%</th>\n",
       "      <td>0.721000</td>\n",
       "      <td>39.000000</td>\n",
       "      <td>39.000000</td>\n",
       "      <td>39.000000</td>\n",
       "      <td>39.00000</td>\n",
       "      <td>40.000000</td>\n",
       "      <td>40.000000</td>\n",
       "    </tr>\n",
       "    <tr>\n",
       "      <th>max</th>\n",
       "      <td>1.000000</td>\n",
       "      <td>52.000000</td>\n",
       "      <td>52.000000</td>\n",
       "      <td>52.000000</td>\n",
       "      <td>52.00000</td>\n",
       "      <td>52.000000</td>\n",
       "      <td>52.000000</td>\n",
       "    </tr>\n",
       "  </tbody>\n",
       "</table>\n",
       "</div>"
      ],
      "text/plain": [
       "           win_rate      hole1_id      hole2_id  community1_id  community2_id  \\\n",
       "count  10000.000000  10000.000000  10000.000000   10000.000000    10000.00000   \n",
       "mean       0.584710     26.443700     26.590600      26.589900       26.45000   \n",
       "std        0.196106     15.064466     14.913062      14.970869       14.87904   \n",
       "min        0.145000      1.000000      1.000000       1.000000        1.00000   \n",
       "25%        0.428000     13.000000     14.000000      14.000000       14.00000   \n",
       "50%        0.583000     26.000000     27.000000      27.000000       27.00000   \n",
       "75%        0.721000     39.000000     39.000000      39.000000       39.00000   \n",
       "max        1.000000     52.000000     52.000000      52.000000       52.00000   \n",
       "\n",
       "       community3_id  community4_id  \n",
       "count   10000.000000   10000.000000  \n",
       "mean       26.648700      26.451400  \n",
       "std        14.876902      15.142436  \n",
       "min         1.000000       1.000000  \n",
       "25%        14.000000      13.000000  \n",
       "50%        27.000000      26.000000  \n",
       "75%        40.000000      40.000000  \n",
       "max        52.000000      52.000000  "
      ]
     },
     "execution_count": 5,
     "metadata": {},
     "output_type": "execute_result"
    }
   ],
   "source": [
    "test_df.describe()"
   ]
  },
  {
   "cell_type": "markdown",
   "metadata": {},
   "source": [
    "# Data Processing"
   ]
  },
  {
   "cell_type": "markdown",
   "metadata": {},
   "source": [
    "## card id -> 1-hot formated vector"
   ]
  },
  {
   "cell_type": "code",
   "execution_count": 6,
   "metadata": {
    "collapsed": false
   },
   "outputs": [],
   "source": [
    "import numpy as np\n",
    "from pypokerengine.engine.card import Card\n",
    "\n",
    "fetch_hole = lambda row: [row[key] for key in ['hole1_id', 'hole2_id']]\n",
    "fetch_community = lambda row: [row[key] for key in ['community1_id', 'community2_id', 'community3_id', 'community4_id']]\n",
    "gen_card_rank_vec = lambda card: [1 if r == card.rank else 0 for r in range(2,15)]\n",
    "gen_card_suit_vec = lambda card: [1 if s == card.suit else 0 for s in [Card.CLUB, Card.DIAMOND, Card.HEART, Card.SPADE]]\n",
    "gen_card_vec = lambda card: gen_card_rank_vec(card) + gen_card_suit_vec(card)\n",
    "gen_img = lambda zipped: [gen_card_vec(Card.from_id(card_id)) for card_id in zipped[0]+zipped[1]]\n",
    "\n",
    "train_hole = train_df.apply(lambda row: fetch_hole(row), axis=1)\n",
    "train_community = train_df.apply(lambda row: fetch_community(row), axis=1)\n",
    "train_df[\"onehot\"] = map(gen_img, zip(train_hole, train_community))\n",
    "\n",
    "test_hole = test_df.apply(lambda row: fetch_hole(row), axis=1)\n",
    "test_community = test_df.apply(lambda row: fetch_community(row), axis=1)\n",
    "test_df[\"onehot\"] = map(gen_img, zip(test_hole, test_community))"
   ]
  },
  {
   "cell_type": "markdown",
   "metadata": {},
   "source": [
    "## Format data (pandas.df -> numpy.ndarray)"
   ]
  },
  {
   "cell_type": "code",
   "execution_count": 7,
   "metadata": {
    "collapsed": false
   },
   "outputs": [
    {
     "name": "stdout",
     "output_type": "stream",
     "text": [
      "shape of training data => x: (150000, 1, 6, 17), y: (150000,)\n",
      "shape of test data => x: (10000, 1, 6, 17), y: (10000,)\n"
     ]
    }
   ],
   "source": [
    "wrap = lambda lst: np.array(lst)\n",
    "to_ndarray = lambda X: wrap([wrap(x) for x in X])\n",
    "train_x, train_y = [to_ndarray(array) for array in [train_df[\"onehot\"].values, train_df[\"win_rate\"].values]]\n",
    "test_x, test_y = [to_ndarray(array) for array in [test_df[\"onehot\"].values, test_df[\"win_rate\"].values]]\n",
    "train_x, test_x = [X.reshape(X.shape[0], 1, X.shape[1], X.shape[2]) for X in [train_x, test_x]]\n",
    "print \"shape of training data => x: %s, y: %s\" % (train_x.shape, train_y.shape)\n",
    "print \"shape of test data => x: %s, y: %s\" % (test_x.shape, test_y.shape)"
   ]
  },
  {
   "cell_type": "markdown",
   "metadata": {},
   "source": [
    "# Create model"
   ]
  },
  {
   "cell_type": "code",
   "execution_count": 8,
   "metadata": {
    "collapsed": false
   },
   "outputs": [
    {
     "name": "stderr",
     "output_type": "stream",
     "text": [
      "Using Theano backend.\n"
     ]
    }
   ],
   "source": [
    "from keras.models import Sequential\n",
    "from keras.layers.convolutional import Convolution2D, MaxPooling2D\n",
    "from keras.layers.core import Dense, Activation, Dropout, Flatten\n",
    "\n",
    "model = Sequential()\n",
    "\n",
    "model.add(Convolution2D(256, 3, 3, border_mode=\"same\", input_shape=(1, 6, 17)))\n",
    "model.add(Activation(\"relu\"))\n",
    "model.add(Convolution2D(256, 3, 3, border_mode=\"same\"))\n",
    "model.add(Activation(\"relu\"))\n",
    "model.add(MaxPooling2D(pool_size=(2, 2)))\n",
    "model.add(Dropout(0.25))\n",
    "\n",
    "model.add(Convolution2D(256, 3, 3, border_mode=\"same\", input_shape=(1, 6, 17)))\n",
    "model.add(Activation(\"relu\"))\n",
    "model.add(Convolution2D(256, 3, 3, border_mode=\"same\"))\n",
    "model.add(Activation(\"relu\"))\n",
    "model.add(MaxPooling2D(pool_size=(2, 2)))\n",
    "model.add(Dropout(0.25))\n",
    "\n",
    "model.add(Flatten())\n",
    "model.add(Dense(512))\n",
    "model.add(Activation(\"relu\"))\n",
    "model.add(Dropout(0.5))\n",
    "model.add(Dense(256))\n",
    "model.add(Activation(\"relu\"))\n",
    "model.add(Dropout(0.5))\n",
    "model.add(Dense(1))\n",
    "model.compile(loss=\"mse\",  optimizer=\"adadelta\")"
   ]
  },
  {
   "cell_type": "markdown",
   "metadata": {},
   "source": [
    "# Train or Load existing model"
   ]
  },
  {
   "cell_type": "code",
   "execution_count": 9,
   "metadata": {
    "collapsed": false
   },
   "outputs": [],
   "source": [
    "import os\n",
    "model_weight_file_path = \"./resource/turn_cnn_model_weights.h5\"\n",
    "if os.path.exists(model_weight_file_path):\n",
    "    model.load_weights(model_weight_file_path)\n",
    "else:\n",
    "    history = model.fit(train_x, train_y, batch_size=128, nb_epoch=1, validation_split=0.1, verbose=2)"
   ]
  },
  {
   "cell_type": "markdown",
   "metadata": {},
   "source": [
    "# Check model performance"
   ]
  },
  {
   "cell_type": "markdown",
   "metadata": {},
   "source": [
    "## Visualize loss transition"
   ]
  },
  {
   "cell_type": "code",
   "execution_count": 10,
   "metadata": {
    "collapsed": false
   },
   "outputs": [],
   "source": [
    "%matplotlib inline\n",
    "import seaborn\n",
    "import matplotlib.pyplot as plt\n",
    "\n",
    "plt.figure(figsize=(10,10))\n",
    "for idx, key in enumerate(history.history, start=1):\n",
    "    plt.subplot(2, 1, idx)\n",
    "    plt.plot(range(len(history.history[key])), history.history[key])\n",
    "    plt.title(key)\n",
    "plt.show()"
   ]
  },
  {
   "cell_type": "markdown",
   "metadata": {},
   "source": [
    "<img src=\"./resource/turn_cnn_loss_history.png\" width=800/>"
   ]
  },
  {
   "cell_type": "markdown",
   "metadata": {},
   "source": [
    "## Test model performance by MSE "
   ]
  },
  {
   "cell_type": "code",
   "execution_count": 10,
   "metadata": {
    "collapsed": false
   },
   "outputs": [],
   "source": [
    "from sklearn.metrics import mean_squared_error\n",
    "\n",
    "def print_model_performance(model, train_x, train_y, test_x, test_y):\n",
    "    print 'MSE on training data = {score}'.format(score=mean_squared_error(model.predict(train_x), train_y))\n",
    "    print 'MSE on test data = {score}'.format(score=mean_squared_error(model.predict(test_x), test_y))"
   ]
  },
  {
   "cell_type": "code",
   "execution_count": 11,
   "metadata": {
    "collapsed": false
   },
   "outputs": [
    {
     "name": "stdout",
     "output_type": "stream",
     "text": [
      "MSE on training data = 0.000162176776933\n",
      "MSE on test data = 0.000420929524004\n"
     ]
    }
   ],
   "source": [
    "print_model_performance(model, train_x, train_y, test_x, test_y)"
   ]
  },
  {
   "cell_type": "markdown",
   "metadata": {},
   "source": [
    "## See model prediction on sample data"
   ]
  },
  {
   "cell_type": "code",
   "execution_count": 12,
   "metadata": {
    "collapsed": false
   },
   "outputs": [
    {
     "name": "stdout",
     "output_type": "stream",
     "text": [
      "HOLE = [D8, C4], COMMUNITY = [CK, CA, C6, C2] => win_rate = { prediction=1.004189, expected=0.994000 }\n",
      "HOLE = [D3, H3], COMMUNITY = [H5, D4, S5, H4] => win_rate = { prediction=0.440482, expected=0.110000 }\n",
      "HOLE = [CA, DT], COMMUNITY = [H6, H9, D8, CJ] => win_rate = { prediction=0.506822, expected=0.505000 }\n"
     ]
    }
   ],
   "source": [
    "from pypokerengine.engine.card import Card\n",
    "C, D, H, S = Card.CLUB, Card.DIAMOND, Card.HEART, Card.SPADE\n",
    "\n",
    "test_case = [\n",
    "    [(8, D), (4, C), (13, C), (1, C), (6, C), (2, C), 0.994],\n",
    "    [(3, D), (3, H), (5, H), (4, D), (5, S), (4, H), 0.11],\n",
    "    [(1, C), (10, D), (6, H), (9, H), (8, D), (11, C), 0.505]\n",
    "]\n",
    "\n",
    "to_id = lambda card: card.to_id()\n",
    "gen_card_rank_vec = lambda card: [1 if r == card.rank else 0 for r in range(2,15)]\n",
    "gen_card_suit_vec = lambda card: [1 if s == card.suit else 0 for s in [Card.CLUB, Card.DIAMOND, Card.HEART, Card.SPADE]]\n",
    "gen_card_vec = lambda card: gen_card_rank_vec(card) + gen_card_suit_vec(card)\n",
    "gen_img = lambda zipped: [gen_card_vec(Card.from_id(card_id)) for card_id in zipped[0]+zipped[1]]\n",
    "wrap = lambda lst: np.array(lst)\n",
    "to_ndarray = lambda X: wrap([wrap(x) for x in X])\n",
    "\n",
    "for card1, card2, card3, card4, card5, card6, expected in test_case:\n",
    "    cards = [Card(rank=rank, suit=suit) for rank, suit in [card1, card2, card3, card4, card5, card6]]\n",
    "    hole = cards[:2]\n",
    "    community = cards[2:]\n",
    "    hole_ids = map(to_id, hole)\n",
    "    community_ids = map(to_id, community)\n",
    "    x = gen_img((hole_ids, community_ids))\n",
    "    X = to_ndarray(x)\n",
    "    X = np.array([X.reshape(1, X.shape[0], X.shape[1])])\n",
    "    y = model.predict(X)[0][0]\n",
    "    print \"HOLE = [%s, %s], COMMUNITY = [%s, %s, %s, %s] => win_rate = { prediction=%f, expected=%f }\" % tuple(map(str, hole) + map(str, community) + [y , expected])"
   ]
  }
 ],
 "metadata": {
  "kernelspec": {
   "display_name": "Python 2",
   "language": "python",
   "name": "python2"
  },
  "language_info": {
   "codemirror_mode": {
    "name": "ipython",
    "version": 2
   },
   "file_extension": ".py",
   "mimetype": "text/x-python",
   "name": "python",
   "nbconvert_exporter": "python",
   "pygments_lexer": "ipython2",
   "version": "2.7.11"
  }
 },
 "nbformat": 4,
 "nbformat_minor": 0
}
