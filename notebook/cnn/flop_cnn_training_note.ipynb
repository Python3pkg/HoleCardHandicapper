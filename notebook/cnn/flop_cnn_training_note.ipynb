{
 "cells": [
  {
   "cell_type": "markdown",
   "metadata": {},
   "source": [
    "# Import learning data"
   ]
  },
  {
   "cell_type": "code",
   "execution_count": 1,
   "metadata": {
    "collapsed": false
   },
   "outputs": [],
   "source": [
    "import pandas as pd\n",
    "\n",
    "training_data1_path = \"../../learning_data/data/win_rate/flop/50000-data-1000-simulation-2-players-win-rate-data.csv\"\n",
    "training_data2_path = \"../../learning_data/data/win_rate/flop/100000-data-1000-simulation-2-players-win-rate-data.csv\"\n",
    "test_data_path = \"../../learning_data/data/win_rate/flop/10000-data-1000-simulation-2-players-win-rate-data.csv\"\n",
    "train1_df = pd.read_csv(training_data1_path)\n",
    "train2_df = pd.read_csv(training_data2_path)\n",
    "train_df = train1_df.append(train2_df, ignore_index=True)\n",
    "test_df = pd.read_csv(test_data_path)"
   ]
  },
  {
   "cell_type": "markdown",
   "metadata": {},
   "source": [
    "# About learning data"
   ]
  },
  {
   "cell_type": "code",
   "execution_count": 2,
   "metadata": {
    "collapsed": false
   },
   "outputs": [
    {
     "name": "stdout",
     "output_type": "stream",
     "text": [
      "(150000, 11) (10000, 11)\n"
     ]
    }
   ],
   "source": [
    "print train_df.shape, test_df.shape"
   ]
  },
  {
   "cell_type": "code",
   "execution_count": 3,
   "metadata": {
    "collapsed": false
   },
   "outputs": [
    {
     "data": {
      "text/html": [
       "<div>\n",
       "<table border=\"1\" class=\"dataframe\">\n",
       "  <thead>\n",
       "    <tr style=\"text-align: right;\">\n",
       "      <th></th>\n",
       "      <th>hole1</th>\n",
       "      <th>hole2</th>\n",
       "      <th>community1</th>\n",
       "      <th>community2</th>\n",
       "      <th>community3</th>\n",
       "      <th>win_rate</th>\n",
       "      <th>hole1_id</th>\n",
       "      <th>hole2_id</th>\n",
       "      <th>community1_id</th>\n",
       "      <th>community2_id</th>\n",
       "      <th>community3_id</th>\n",
       "    </tr>\n",
       "  </thead>\n",
       "  <tbody>\n",
       "    <tr>\n",
       "      <th>0</th>\n",
       "      <td>D8</td>\n",
       "      <td>CA</td>\n",
       "      <td>DQ</td>\n",
       "      <td>S3</td>\n",
       "      <td>CT</td>\n",
       "      <td>0.530</td>\n",
       "      <td>21</td>\n",
       "      <td>1</td>\n",
       "      <td>25</td>\n",
       "      <td>42</td>\n",
       "      <td>10</td>\n",
       "    </tr>\n",
       "    <tr>\n",
       "      <th>1</th>\n",
       "      <td>S5</td>\n",
       "      <td>HJ</td>\n",
       "      <td>C3</td>\n",
       "      <td>D9</td>\n",
       "      <td>HQ</td>\n",
       "      <td>0.464</td>\n",
       "      <td>44</td>\n",
       "      <td>37</td>\n",
       "      <td>3</td>\n",
       "      <td>22</td>\n",
       "      <td>38</td>\n",
       "    </tr>\n",
       "    <tr>\n",
       "      <th>2</th>\n",
       "      <td>SA</td>\n",
       "      <td>S6</td>\n",
       "      <td>CK</td>\n",
       "      <td>H3</td>\n",
       "      <td>S5</td>\n",
       "      <td>0.564</td>\n",
       "      <td>40</td>\n",
       "      <td>45</td>\n",
       "      <td>13</td>\n",
       "      <td>29</td>\n",
       "      <td>44</td>\n",
       "    </tr>\n",
       "    <tr>\n",
       "      <th>3</th>\n",
       "      <td>HT</td>\n",
       "      <td>H5</td>\n",
       "      <td>C9</td>\n",
       "      <td>H9</td>\n",
       "      <td>C4</td>\n",
       "      <td>0.659</td>\n",
       "      <td>36</td>\n",
       "      <td>31</td>\n",
       "      <td>9</td>\n",
       "      <td>35</td>\n",
       "      <td>4</td>\n",
       "    </tr>\n",
       "    <tr>\n",
       "      <th>4</th>\n",
       "      <td>S8</td>\n",
       "      <td>HJ</td>\n",
       "      <td>CQ</td>\n",
       "      <td>HQ</td>\n",
       "      <td>DK</td>\n",
       "      <td>0.598</td>\n",
       "      <td>47</td>\n",
       "      <td>37</td>\n",
       "      <td>12</td>\n",
       "      <td>38</td>\n",
       "      <td>26</td>\n",
       "    </tr>\n",
       "  </tbody>\n",
       "</table>\n",
       "</div>"
      ],
      "text/plain": [
       "  hole1 hole2 community1 community2 community3  win_rate  hole1_id  hole2_id  \\\n",
       "0    D8    CA         DQ         S3         CT     0.530        21         1   \n",
       "1    S5    HJ         C3         D9         HQ     0.464        44        37   \n",
       "2    SA    S6         CK         H3         S5     0.564        40        45   \n",
       "3    HT    H5         C9         H9         C4     0.659        36        31   \n",
       "4    S8    HJ         CQ         HQ         DK     0.598        47        37   \n",
       "\n",
       "   community1_id  community2_id  community3_id  \n",
       "0             25             42             10  \n",
       "1              3             22             38  \n",
       "2             13             29             44  \n",
       "3              9             35              4  \n",
       "4             12             38             26  "
      ]
     },
     "execution_count": 3,
     "metadata": {},
     "output_type": "execute_result"
    }
   ],
   "source": [
    "train_df.head()"
   ]
  },
  {
   "cell_type": "code",
   "execution_count": 4,
   "metadata": {
    "collapsed": false
   },
   "outputs": [
    {
     "data": {
      "text/html": [
       "<div>\n",
       "<table border=\"1\" class=\"dataframe\">\n",
       "  <thead>\n",
       "    <tr style=\"text-align: right;\">\n",
       "      <th></th>\n",
       "      <th>win_rate</th>\n",
       "      <th>hole1_id</th>\n",
       "      <th>hole2_id</th>\n",
       "      <th>community1_id</th>\n",
       "      <th>community2_id</th>\n",
       "      <th>community3_id</th>\n",
       "    </tr>\n",
       "  </thead>\n",
       "  <tbody>\n",
       "    <tr>\n",
       "      <th>count</th>\n",
       "      <td>150000.000000</td>\n",
       "      <td>150000.000000</td>\n",
       "      <td>150000.000000</td>\n",
       "      <td>150000.000000</td>\n",
       "      <td>150000.000000</td>\n",
       "      <td>150000.000000</td>\n",
       "    </tr>\n",
       "    <tr>\n",
       "      <th>mean</th>\n",
       "      <td>0.585045</td>\n",
       "      <td>26.498753</td>\n",
       "      <td>26.606080</td>\n",
       "      <td>26.486640</td>\n",
       "      <td>26.467327</td>\n",
       "      <td>26.529093</td>\n",
       "    </tr>\n",
       "    <tr>\n",
       "      <th>std</th>\n",
       "      <td>0.154497</td>\n",
       "      <td>15.011237</td>\n",
       "      <td>15.013962</td>\n",
       "      <td>15.008892</td>\n",
       "      <td>14.990036</td>\n",
       "      <td>14.990617</td>\n",
       "    </tr>\n",
       "    <tr>\n",
       "      <th>min</th>\n",
       "      <td>0.248000</td>\n",
       "      <td>1.000000</td>\n",
       "      <td>1.000000</td>\n",
       "      <td>1.000000</td>\n",
       "      <td>1.000000</td>\n",
       "      <td>1.000000</td>\n",
       "    </tr>\n",
       "    <tr>\n",
       "      <th>25%</th>\n",
       "      <td>0.461000</td>\n",
       "      <td>13.000000</td>\n",
       "      <td>14.000000</td>\n",
       "      <td>13.000000</td>\n",
       "      <td>13.000000</td>\n",
       "      <td>14.000000</td>\n",
       "    </tr>\n",
       "    <tr>\n",
       "      <th>50%</th>\n",
       "      <td>0.578000</td>\n",
       "      <td>26.000000</td>\n",
       "      <td>27.000000</td>\n",
       "      <td>26.000000</td>\n",
       "      <td>26.000000</td>\n",
       "      <td>26.000000</td>\n",
       "    </tr>\n",
       "    <tr>\n",
       "      <th>75%</th>\n",
       "      <td>0.679000</td>\n",
       "      <td>39.000000</td>\n",
       "      <td>40.000000</td>\n",
       "      <td>40.000000</td>\n",
       "      <td>39.000000</td>\n",
       "      <td>40.000000</td>\n",
       "    </tr>\n",
       "    <tr>\n",
       "      <th>max</th>\n",
       "      <td>1.000000</td>\n",
       "      <td>52.000000</td>\n",
       "      <td>52.000000</td>\n",
       "      <td>52.000000</td>\n",
       "      <td>52.000000</td>\n",
       "      <td>52.000000</td>\n",
       "    </tr>\n",
       "  </tbody>\n",
       "</table>\n",
       "</div>"
      ],
      "text/plain": [
       "            win_rate       hole1_id       hole2_id  community1_id  \\\n",
       "count  150000.000000  150000.000000  150000.000000  150000.000000   \n",
       "mean        0.585045      26.498753      26.606080      26.486640   \n",
       "std         0.154497      15.011237      15.013962      15.008892   \n",
       "min         0.248000       1.000000       1.000000       1.000000   \n",
       "25%         0.461000      13.000000      14.000000      13.000000   \n",
       "50%         0.578000      26.000000      27.000000      26.000000   \n",
       "75%         0.679000      39.000000      40.000000      40.000000   \n",
       "max         1.000000      52.000000      52.000000      52.000000   \n",
       "\n",
       "       community2_id  community3_id  \n",
       "count  150000.000000  150000.000000  \n",
       "mean       26.467327      26.529093  \n",
       "std        14.990036      14.990617  \n",
       "min         1.000000       1.000000  \n",
       "25%        13.000000      14.000000  \n",
       "50%        26.000000      26.000000  \n",
       "75%        39.000000      40.000000  \n",
       "max        52.000000      52.000000  "
      ]
     },
     "execution_count": 4,
     "metadata": {},
     "output_type": "execute_result"
    }
   ],
   "source": [
    "train_df.describe()"
   ]
  },
  {
   "cell_type": "code",
   "execution_count": 5,
   "metadata": {
    "collapsed": false
   },
   "outputs": [
    {
     "data": {
      "text/html": [
       "<div>\n",
       "<table border=\"1\" class=\"dataframe\">\n",
       "  <thead>\n",
       "    <tr style=\"text-align: right;\">\n",
       "      <th></th>\n",
       "      <th>win_rate</th>\n",
       "      <th>hole1_id</th>\n",
       "      <th>hole2_id</th>\n",
       "      <th>community1_id</th>\n",
       "      <th>community2_id</th>\n",
       "      <th>community3_id</th>\n",
       "    </tr>\n",
       "  </thead>\n",
       "  <tbody>\n",
       "    <tr>\n",
       "      <th>count</th>\n",
       "      <td>10000.000000</td>\n",
       "      <td>10000.000000</td>\n",
       "      <td>10000.000000</td>\n",
       "      <td>10000.000000</td>\n",
       "      <td>10000.000000</td>\n",
       "      <td>10000.000000</td>\n",
       "    </tr>\n",
       "    <tr>\n",
       "      <th>mean</th>\n",
       "      <td>0.586272</td>\n",
       "      <td>26.592700</td>\n",
       "      <td>26.486300</td>\n",
       "      <td>26.434500</td>\n",
       "      <td>26.454800</td>\n",
       "      <td>26.452700</td>\n",
       "    </tr>\n",
       "    <tr>\n",
       "      <th>std</th>\n",
       "      <td>0.154742</td>\n",
       "      <td>15.059531</td>\n",
       "      <td>15.019759</td>\n",
       "      <td>15.042777</td>\n",
       "      <td>14.962638</td>\n",
       "      <td>15.058481</td>\n",
       "    </tr>\n",
       "    <tr>\n",
       "      <th>min</th>\n",
       "      <td>0.273000</td>\n",
       "      <td>1.000000</td>\n",
       "      <td>1.000000</td>\n",
       "      <td>1.000000</td>\n",
       "      <td>1.000000</td>\n",
       "      <td>1.000000</td>\n",
       "    </tr>\n",
       "    <tr>\n",
       "      <th>25%</th>\n",
       "      <td>0.461000</td>\n",
       "      <td>13.000000</td>\n",
       "      <td>13.000000</td>\n",
       "      <td>13.000000</td>\n",
       "      <td>13.000000</td>\n",
       "      <td>13.000000</td>\n",
       "    </tr>\n",
       "    <tr>\n",
       "      <th>50%</th>\n",
       "      <td>0.579000</td>\n",
       "      <td>27.000000</td>\n",
       "      <td>27.000000</td>\n",
       "      <td>27.000000</td>\n",
       "      <td>26.000000</td>\n",
       "      <td>26.000000</td>\n",
       "    </tr>\n",
       "    <tr>\n",
       "      <th>75%</th>\n",
       "      <td>0.681000</td>\n",
       "      <td>40.000000</td>\n",
       "      <td>40.000000</td>\n",
       "      <td>39.000000</td>\n",
       "      <td>40.000000</td>\n",
       "      <td>40.000000</td>\n",
       "    </tr>\n",
       "    <tr>\n",
       "      <th>max</th>\n",
       "      <td>1.000000</td>\n",
       "      <td>52.000000</td>\n",
       "      <td>52.000000</td>\n",
       "      <td>52.000000</td>\n",
       "      <td>52.000000</td>\n",
       "      <td>52.000000</td>\n",
       "    </tr>\n",
       "  </tbody>\n",
       "</table>\n",
       "</div>"
      ],
      "text/plain": [
       "           win_rate      hole1_id      hole2_id  community1_id  community2_id  \\\n",
       "count  10000.000000  10000.000000  10000.000000   10000.000000   10000.000000   \n",
       "mean       0.586272     26.592700     26.486300      26.434500      26.454800   \n",
       "std        0.154742     15.059531     15.019759      15.042777      14.962638   \n",
       "min        0.273000      1.000000      1.000000       1.000000       1.000000   \n",
       "25%        0.461000     13.000000     13.000000      13.000000      13.000000   \n",
       "50%        0.579000     27.000000     27.000000      27.000000      26.000000   \n",
       "75%        0.681000     40.000000     40.000000      39.000000      40.000000   \n",
       "max        1.000000     52.000000     52.000000      52.000000      52.000000   \n",
       "\n",
       "       community3_id  \n",
       "count   10000.000000  \n",
       "mean       26.452700  \n",
       "std        15.058481  \n",
       "min         1.000000  \n",
       "25%        13.000000  \n",
       "50%        26.000000  \n",
       "75%        40.000000  \n",
       "max        52.000000  "
      ]
     },
     "execution_count": 5,
     "metadata": {},
     "output_type": "execute_result"
    }
   ],
   "source": [
    "test_df.describe()"
   ]
  },
  {
   "cell_type": "markdown",
   "metadata": {},
   "source": [
    "# Data Processing"
   ]
  },
  {
   "cell_type": "markdown",
   "metadata": {},
   "source": [
    "## card id -> 1-hot formated vector"
   ]
  },
  {
   "cell_type": "code",
   "execution_count": 6,
   "metadata": {
    "collapsed": false
   },
   "outputs": [],
   "source": [
    "import numpy as np\n",
    "from pypokerengine.engine.card import Card\n",
    "\n",
    "fetch_hole = lambda row: [row[key] for key in ['hole1_id', 'hole2_id']]\n",
    "fetch_community = lambda row: [row[key] for key in ['community1_id', 'community2_id', 'community3_id']]\n",
    "gen_card_rank_vec = lambda card: [1 if r == card.rank else 0 for r in range(2,15)]\n",
    "gen_card_suit_vec = lambda card: [1 if s == card.suit else 0 for s in [Card.CLUB, Card.DIAMOND, Card.HEART, Card.SPADE]]\n",
    "gen_card_vec = lambda card: gen_card_rank_vec(card) + gen_card_suit_vec(card)\n",
    "gen_img = lambda zipped: [gen_card_vec(Card.from_id(card_id)) for card_id in zipped[0]+zipped[1]]\n",
    "\n",
    "train_hole = train_df.apply(lambda row: fetch_hole(row), axis=1)\n",
    "train_community = train_df.apply(lambda row: fetch_community(row), axis=1)\n",
    "train_df[\"onehot\"] = map(gen_img, zip(train_hole, train_community))\n",
    "\n",
    "test_hole = test_df.apply(lambda row: fetch_hole(row), axis=1)\n",
    "test_community = test_df.apply(lambda row: fetch_community(row), axis=1)\n",
    "test_df[\"onehot\"] = map(gen_img, zip(test_hole, test_community))"
   ]
  },
  {
   "cell_type": "markdown",
   "metadata": {},
   "source": [
    "## Format data (pandas.df -> numpy.ndarray)"
   ]
  },
  {
   "cell_type": "code",
   "execution_count": 7,
   "metadata": {
    "collapsed": false
   },
   "outputs": [
    {
     "name": "stdout",
     "output_type": "stream",
     "text": [
      "shape of training data => x: (150000, 1, 5, 17), y: (150000,)\n",
      "shape of test data => x: (10000, 1, 5, 17), y: (10000,)\n"
     ]
    }
   ],
   "source": [
    "wrap = lambda lst: np.array(lst)\n",
    "to_ndarray = lambda X: wrap([wrap(x) for x in X])\n",
    "train_x, train_y = [to_ndarray(array) for array in [train_df[\"onehot\"].values, train_df[\"win_rate\"].values]]\n",
    "test_x, test_y = [to_ndarray(array) for array in [test_df[\"onehot\"].values, test_df[\"win_rate\"].values]]\n",
    "train_x, test_x = [X.reshape(X.shape[0], 1, X.shape[1], X.shape[2]) for X in [train_x, test_x]]\n",
    "print \"shape of training data => x: %s, y: %s\" % (train_x.shape, train_y.shape)\n",
    "print \"shape of test data => x: %s, y: %s\" % (test_x.shape, test_y.shape)"
   ]
  },
  {
   "cell_type": "markdown",
   "metadata": {},
   "source": [
    "# Create model"
   ]
  },
  {
   "cell_type": "code",
   "execution_count": 8,
   "metadata": {
    "collapsed": false
   },
   "outputs": [
    {
     "name": "stderr",
     "output_type": "stream",
     "text": [
      "Using Theano backend.\n"
     ]
    }
   ],
   "source": [
    "from keras.models import Sequential\n",
    "from keras.layers.convolutional import Convolution2D, MaxPooling2D\n",
    "from keras.layers.core import Dense, Activation, Dropout, Flatten\n",
    "\n",
    "model = Sequential()\n",
    "\n",
    "model.add(Convolution2D(128, 3, 3, border_mode=\"same\", input_shape=(1, 5, 17)))\n",
    "model.add(Activation(\"relu\"))\n",
    "model.add(Convolution2D(128, 3, 3, border_mode=\"same\"))\n",
    "model.add(Activation(\"relu\"))\n",
    "model.add(MaxPooling2D(pool_size=(2, 2)))\n",
    "model.add(Dropout(0.25))\n",
    "\n",
    "model.add(Convolution2D(128, 3, 3, border_mode=\"same\", input_shape=(1, 5, 17)))\n",
    "model.add(Activation(\"relu\"))\n",
    "model.add(Convolution2D(128, 3, 3, border_mode=\"same\"))\n",
    "model.add(Activation(\"relu\"))\n",
    "model.add(MaxPooling2D(pool_size=(2, 2)))\n",
    "model.add(Dropout(0.25))\n",
    "\n",
    "model.add(Flatten())\n",
    "model.add(Dense(128))\n",
    "model.add(Activation(\"relu\"))\n",
    "model.add(Dropout(0.5))\n",
    "model.add(Dense(1))\n",
    "model.compile(loss=\"mse\",  optimizer=\"adadelta\")"
   ]
  },
  {
   "cell_type": "markdown",
   "metadata": {},
   "source": [
    "# Train or Load existing model"
   ]
  },
  {
   "cell_type": "code",
   "execution_count": 9,
   "metadata": {
    "collapsed": false
   },
   "outputs": [],
   "source": [
    "import os\n",
    "model_weight_file_path = \"./resource/flop_cnn_model_weights.h5\"\n",
    "if os.path.exists(model_weight_file_path):\n",
    "    model.load_weights(model_weight_file_path)\n",
    "else:\n",
    "    history = model.fit(train_x, train_y, batch_size=128, nb_epoch=1, validation_split=0.1, verbose=2)"
   ]
  },
  {
   "cell_type": "markdown",
   "metadata": {},
   "source": [
    "# Check model performance"
   ]
  },
  {
   "cell_type": "markdown",
   "metadata": {},
   "source": [
    "## Visualize loss transition"
   ]
  },
  {
   "cell_type": "code",
   "execution_count": 10,
   "metadata": {
    "collapsed": false
   },
   "outputs": [],
   "source": [
    "%matplotlib inline\n",
    "import seaborn\n",
    "import matplotlib.pyplot as plt\n",
    "plt.figure(figsize=(10,10))\n",
    "for idx, key in enumerate(history.history, start=1):\n",
    "    plt.subplot(2, 1, idx)\n",
    "    plt.plot(range(len(history.history[key])), history.history[key])\n",
    "    plt.title(key)\n",
    "plt.show()"
   ]
  },
  {
   "cell_type": "markdown",
   "metadata": {},
   "source": [
    "<img src=\"./resource/flop_cnn_loss_history.png\" width=800/>"
   ]
  },
  {
   "cell_type": "markdown",
   "metadata": {},
   "source": [
    "## Test model performance by MSE "
   ]
  },
  {
   "cell_type": "code",
   "execution_count": 11,
   "metadata": {
    "collapsed": false
   },
   "outputs": [],
   "source": [
    "from sklearn.metrics import mean_squared_error\n",
    "\n",
    "def print_model_performance(model, train_x, train_y, test_x, test_y):\n",
    "    print 'MSE on training data = {score}'.format(score=mean_squared_error(model.predict(train_x), train_y))\n",
    "    print 'MSE on test data = {score}'.format(score=mean_squared_error(model.predict(test_x), test_y))"
   ]
  },
  {
   "cell_type": "code",
   "execution_count": 12,
   "metadata": {
    "collapsed": false
   },
   "outputs": [
    {
     "name": "stdout",
     "output_type": "stream",
     "text": [
      "MSE on training data = 0.00017142599317\n",
      "MSE on test data = 0.000307717757026\n"
     ]
    }
   ],
   "source": [
    "print_model_performance(model, train_x, train_y, test_x, test_y)"
   ]
  },
  {
   "cell_type": "markdown",
   "metadata": {},
   "source": [
    "## See model prediction on sample data"
   ]
  },
  {
   "cell_type": "code",
   "execution_count": 13,
   "metadata": {
    "collapsed": false
   },
   "outputs": [
    {
     "name": "stdout",
     "output_type": "stream",
     "text": [
      "HOLE = [C4, ST], COMMUNITY = [DT, CA, HT] => win_rate = { prediction=0.962527, expected=0.954000 }\n",
      "HOLE = [S4, S2], COMMUNITY = [DQ, CJ, DT] => win_rate = { prediction=0.296932, expected=0.274000 }\n",
      "HOLE = [HA, HJ], COMMUNITY = [D8, C3, D7] => win_rate = { prediction=0.502538, expected=0.507000 }\n"
     ]
    }
   ],
   "source": [
    "from pypokerengine.engine.card import Card\n",
    "C, D, H, S = Card.CLUB, Card.DIAMOND, Card.HEART, Card.SPADE\n",
    "\n",
    "test_case = [\n",
    "    [(4, C), (10, S), (10, D), (1, C), (10, H), 0.954],\n",
    "    [(4, S), (2, S), (12, D), (11, C), (10, D), 0.274],\n",
    "    [(1, H), (11, H), (8, D), (3, C), (7, D), 0.507]\n",
    "]\n",
    "\n",
    "to_id = lambda card: card.to_id()\n",
    "gen_card_rank_vec = lambda card: [1 if r == card.rank else 0 for r in range(2,15)]\n",
    "gen_card_suit_vec = lambda card: [1 if s == card.suit else 0 for s in [Card.CLUB, Card.DIAMOND, Card.HEART, Card.SPADE]]\n",
    "gen_card_vec = lambda card: gen_card_rank_vec(card) + gen_card_suit_vec(card)\n",
    "gen_img = lambda zipped: [gen_card_vec(Card.from_id(card_id)) for card_id in zipped[0]+zipped[1]]\n",
    "wrap = lambda lst: np.array(lst)\n",
    "to_ndarray = lambda X: wrap([wrap(x) for x in X])\n",
    "\n",
    "for card1, card2, card3, card4, card5, expected in test_case:\n",
    "    cards = [Card(rank=rank, suit=suit) for rank, suit in [card1, card2, card3, card4, card5]]\n",
    "    hole = cards[:2]\n",
    "    community = cards[2:]\n",
    "    hole_ids = map(to_id, hole)\n",
    "    community_ids = map(to_id, community)\n",
    "    x = gen_img((hole_ids, community_ids))\n",
    "    X = to_ndarray(x)\n",
    "    X = np.array([X.reshape(1, X.shape[0], X.shape[1])])\n",
    "    y = model.predict(X)[0][0]\n",
    "    print \"HOLE = [%s, %s], COMMUNITY = [%s, %s, %s] => win_rate = { prediction=%f, expected=%f }\" % tuple(map(str, hole) + map(str, community) + [y , expected])"
   ]
  }
 ],
 "metadata": {
  "kernelspec": {
   "display_name": "Python 2",
   "language": "python",
   "name": "python2"
  },
  "language_info": {
   "codemirror_mode": {
    "name": "ipython",
    "version": 2
   },
   "file_extension": ".py",
   "mimetype": "text/x-python",
   "name": "python",
   "nbconvert_exporter": "python",
   "pygments_lexer": "ipython2",
   "version": "2.7.11"
  }
 },
 "nbformat": 4,
 "nbformat_minor": 0
}
